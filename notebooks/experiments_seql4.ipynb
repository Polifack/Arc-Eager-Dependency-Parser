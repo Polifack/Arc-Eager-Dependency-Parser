{
 "cells": [
  {
   "cell_type": "code",
   "execution_count": null,
   "metadata": {
    "colab": {
     "base_uri": "https://localhost:8080/"
    },
    "id": "T-wIovlOgQMH",
    "outputId": "7542c38b-2f12-4382-f938-943d4af2f9f6"
   },
   "outputs": [
    {
     "name": "stdout",
     "output_type": "stream",
     "text": [
      "Cloning into 'Arc-Eager-Dependency-Parser'...\n",
      "remote: Enumerating objects: 119, done.\u001b[K\n",
      "remote: Counting objects: 100% (119/119), done.\u001b[K\n",
      "remote: Compressing objects: 100% (80/80), done.\u001b[K\n",
      "remote: Total 119 (delta 51), reused 100 (delta 32), pack-reused 0\u001b[K\n",
      "Receiving objects: 100% (119/119), 3.57 MiB | 2.80 MiB/s, done.\n",
      "Resolving deltas: 100% (51/51), done.\n",
      "/content/Arc-Eager-Dependency-Parser\n",
      "Already up to date.\n",
      "data  eval  install.sh\tLICENSE  main.py  models  README.MD  src\n"
     ]
    }
   ],
   "source": [
    "!git clone https://github.com/Polifack/Arc-Eager-Dependency-Parser.git\n",
    "%cd Arc-Eager-Dependency-Parser/\n",
    "!git pull\n",
    "!mkdir ./models\n",
    "!ls"
   ]
  },
  {
   "cell_type": "code",
   "execution_count": null,
   "metadata": {
    "colab": {
     "base_uri": "https://localhost:8080/"
    },
    "id": "UdkWmC5OUksC",
    "outputId": "b60314c0-6207-4349-853a-39fa06d72008"
   },
   "outputs": [
    {
     "name": "stdout",
     "output_type": "stream",
     "text": [
      "Already up to date.\n"
     ]
    }
   ],
   "source": [
    "!git pull"
   ]
  },
  {
   "cell_type": "markdown",
   "metadata": {
    "id": "56NzBEAS9DJq"
   },
   "source": [
    "# Model: seql=4, hdim=256, edim=128\n"
   ]
  },
  {
   "cell_type": "code",
   "execution_count": null,
   "metadata": {
    "id": "j3vKA7ZU9DJt"
   },
   "outputs": [],
   "source": [
    "!mkdir ./models/a"
   ]
  },
  {
   "cell_type": "code",
   "execution_count": null,
   "metadata": {
    "colab": {
     "base_uri": "https://localhost:8080/"
    },
    "id": "dVpe7mOz9DJt",
    "outputId": "88513628-100d-48a8-9c8c-3a489bf1cbe8"
   },
   "outputs": [
    {
     "name": "stdout",
     "output_type": "stream",
     "text": [
      "[*] Train mode\n",
      "[*] Building the model...\n",
      "[*] Compiling the model and starting train...\n",
      "2022-12-15 11:10:03.397249: W tensorflow/core/common_runtime/gpu/gpu_bfc_allocator.cc:42] Overriding orig_value setting because the TF_FORCE_GPU_ALLOW_GROWTH environment variable is set. Original config value was 0.\n",
      "*** VOCABULARY\n",
      "    words_vocab      = 6670\n",
      "    postags_vocab    = 20\n",
      "    relations_vocab  = 46\n",
      "*** PARSER MODEL\n",
      "    sequence_length  = 4\n",
      "    embeddings_dim   = 128\n",
      "    dense_dim        = 256\n",
      "*** COMPILATION\n",
      "    optimizer        = adam\n",
      "    loss_fucntion    = categorical_crossentropy\n",
      "    learning_rate    = 0.001\n",
      "    metrics          = ['acc']\n",
      "Epoch 1/10\n",
      "2603/2603 [==============================] - 18s 6ms/step - loss: 0.8992 - action_loss: 0.3649 - relation_loss: 0.5342 - action_acc: 0.8615 - relation_acc: 0.8364 - val_loss: 0.8058 - val_action_loss: 0.3517 - val_relation_loss: 0.4541 - val_action_acc: 0.8742 - val_relation_acc: 0.8494\n",
      "Epoch 2/10\n",
      "2603/2603 [==============================] - 14s 6ms/step - loss: 0.4014 - action_loss: 0.1671 - relation_loss: 0.2344 - action_acc: 0.9407 - relation_acc: 0.9257 - val_loss: 0.8747 - val_action_loss: 0.4010 - val_relation_loss: 0.4737 - val_action_acc: 0.8719 - val_relation_acc: 0.8528\n",
      "Epoch 3/10\n",
      "2603/2603 [==============================] - 15s 6ms/step - loss: 0.1849 - action_loss: 0.0791 - relation_loss: 0.1057 - action_acc: 0.9721 - relation_acc: 0.9671 - val_loss: 1.0948 - val_action_loss: 0.5211 - val_relation_loss: 0.5737 - val_action_acc: 0.8692 - val_relation_acc: 0.8491\n",
      "Epoch 4/10\n",
      "2603/2603 [==============================] - 14s 6ms/step - loss: 0.0892 - action_loss: 0.0416 - relation_loss: 0.0476 - action_acc: 0.9859 - relation_acc: 0.9848 - val_loss: 1.3584 - val_action_loss: 0.6663 - val_relation_loss: 0.6921 - val_action_acc: 0.8561 - val_relation_acc: 0.8455\n",
      "Epoch 5/10\n",
      "2603/2603 [==============================] - 15s 6ms/step - loss: 0.0542 - action_loss: 0.0275 - relation_loss: 0.0267 - action_acc: 0.9901 - relation_acc: 0.9912 - val_loss: 1.5309 - val_action_loss: 0.7180 - val_relation_loss: 0.8129 - val_action_acc: 0.8629 - val_relation_acc: 0.8475\n",
      "Epoch 6/10\n",
      "2603/2603 [==============================] - 15s 6ms/step - loss: 0.0379 - action_loss: 0.0203 - relation_loss: 0.0176 - action_acc: 0.9931 - relation_acc: 0.9946 - val_loss: 1.8147 - val_action_loss: 0.8648 - val_relation_loss: 0.9499 - val_action_acc: 0.8629 - val_relation_acc: 0.8442\n",
      "Epoch 7/10\n",
      "2603/2603 [==============================] - 15s 6ms/step - loss: 0.0283 - action_loss: 0.0153 - relation_loss: 0.0130 - action_acc: 0.9950 - relation_acc: 0.9959 - val_loss: 1.9308 - val_action_loss: 0.9051 - val_relation_loss: 1.0258 - val_action_acc: 0.8633 - val_relation_acc: 0.8451\n",
      "Epoch 8/10\n",
      "2603/2603 [==============================] - 15s 6ms/step - loss: 0.0254 - action_loss: 0.0135 - relation_loss: 0.0119 - action_acc: 0.9958 - relation_acc: 0.9962 - val_loss: 2.1225 - val_action_loss: 0.9967 - val_relation_loss: 1.1258 - val_action_acc: 0.8541 - val_relation_acc: 0.8416\n",
      "Epoch 9/10\n",
      "2603/2603 [==============================] - 15s 6ms/step - loss: 0.0203 - action_loss: 0.0109 - relation_loss: 0.0094 - action_acc: 0.9965 - relation_acc: 0.9969 - val_loss: 2.2566 - val_action_loss: 1.0638 - val_relation_loss: 1.1928 - val_action_acc: 0.8565 - val_relation_acc: 0.8356\n",
      "Epoch 10/10\n",
      "2603/2603 [==============================] - 15s 6ms/step - loss: 0.0206 - action_loss: 0.0110 - relation_loss: 0.0096 - action_acc: 0.9967 - relation_acc: 0.9972 - val_loss: 2.3505 - val_action_loss: 1.0866 - val_relation_loss: 1.2639 - val_action_acc: 0.8594 - val_relation_acc: 0.8420\n"
     ]
    }
   ],
   "source": [
    "!python main.py train --input ./data/UD_English-ParTUT/ --output ./models/a --seq_l 4 --hidden_size 256 --embedding_size 128"
   ]
  },
  {
   "cell_type": "code",
   "execution_count": null,
   "metadata": {
    "colab": {
     "base_uri": "https://localhost:8080/"
    },
    "id": "RaTEvA4C9DJt",
    "outputId": "ccf39934-6bd5-4f76-bf7d-e5e3fafa7e1d"
   },
   "outputs": [
    {
     "name": "stdout",
     "output_type": "stream",
     "text": [
      "[*] Plot mode\n",
      "2022-12-15 11:13:33.867778: W tensorflow/core/common_runtime/gpu/gpu_bfc_allocator.cc:42] Overriding orig_value setting because the TF_FORCE_GPU_ALLOW_GROWTH environment variable is set. Original config value was 0.\n",
      "[*] Model loaded\n",
      "    Sequence length: 4\n",
      "    Embedding dimension: 128\n",
      "    Hidden layer dimension: 256\n",
      "[*] Model loaded from ./models/a/model\n"
     ]
    }
   ],
   "source": [
    "!python main.py plot --model ./models/a/model --output ./models/a"
   ]
  },
  {
   "cell_type": "code",
   "execution_count": null,
   "metadata": {
    "colab": {
     "base_uri": "https://localhost:8080/"
    },
    "id": "KCxP82SH9DJu",
    "outputId": "38959d4f-1112-433a-a5af-b16cdcca468f"
   },
   "outputs": [
    {
     "name": "stdout",
     "output_type": "stream",
     "text": [
      "[*] Evaluation mode\n",
      "    Postprocess:  True\n",
      "    Multi-root:  True\n",
      "2022-12-15 11:13:39.609309: W tensorflow/core/common_runtime/gpu/gpu_bfc_allocator.cc:42] Overriding orig_value setting because the TF_FORCE_GPU_ALLOW_GROWTH environment variable is set. Original config value was 0.\n",
      "[*] Model loaded\n",
      "    Sequence length: 4\n",
      "    Embedding dimension: 128\n",
      "    Hidden layer dimension: 256\n",
      "[*] Model loaded from ./models/a/model\n",
      "[*] Predicting the test set...\n",
      "Time:  0:04:15.864068\n",
      "Total tokens:  3561\n",
      "Total sentences:  153\n",
      "Tokens per second:  13.917546249596876\n",
      "Sentences per second:  0.5979737647257293\n",
      "[*] Postprocessing the test set...\n",
      "[*] Writing the test set...\n"
     ]
    }
   ],
   "source": [
    "!python main.py eval --input ./data/UD_English-ParTUT/ --output ./models/a --model ./models/a/model"
   ]
  },
  {
   "cell_type": "code",
   "execution_count": null,
   "metadata": {
    "colab": {
     "base_uri": "https://localhost:8080/"
    },
    "id": "zp5mbdL_9DJu",
    "outputId": "b08d0fee-fe1e-45fa-a9e0-8e4ba471d572"
   },
   "outputs": [
    {
     "name": "stdout",
     "output_type": "stream",
     "text": [
      "Metric     | Precision |    Recall |  F1 Score | AligndAcc\n",
      "-----------+-----------+-----------+-----------+-----------\n",
      "Tokens     |    100.00 |    100.00 |    100.00 |\n",
      "Sentences  |    100.00 |    100.00 |    100.00 |\n",
      "Words      |    100.00 |    100.00 |    100.00 |\n",
      "UPOS       |    100.00 |    100.00 |    100.00 |    100.00\n",
      "XPOS       |      0.15 |      0.15 |      0.15 |      0.15\n",
      "UFeats     |     36.06 |     36.06 |     36.06 |     36.06\n",
      "AllTags    |      0.15 |      0.15 |      0.15 |      0.15\n",
      "Lemmas     |      0.00 |      0.00 |      0.00 |      0.00\n",
      "UAS        |     64.91 |     64.91 |     64.91 |     64.91\n",
      "LAS        |     57.57 |     57.57 |     57.57 |     57.57\n",
      "CLAS       |     47.36 |     44.36 |     45.81 |     44.36\n",
      "MLAS       |      7.13 |      6.68 |      6.90 |      6.68\n",
      "BLEX       |      0.00 |      0.00 |      0.00 |      0.00\n"
     ]
    }
   ],
   "source": [
    "!python ./eval/conll18_ud_eval.py ./models/a/test_clean.conllu ./models/a/test_pred.conllu --verbose"
   ]
  },
  {
   "cell_type": "markdown",
   "metadata": {
    "id": "hh4f_dvuLiw8"
   },
   "source": [
    "# Model: seql=2, hdim=192, edim=128\n"
   ]
  },
  {
   "cell_type": "code",
   "execution_count": null,
   "metadata": {
    "id": "f0PH3V8vLiw9"
   },
   "outputs": [],
   "source": [
    "!mkdir ./models/d"
   ]
  },
  {
   "cell_type": "code",
   "execution_count": null,
   "metadata": {
    "colab": {
     "base_uri": "https://localhost:8080/"
    },
    "id": "CnwawmOYLiw9",
    "outputId": "34091233-b7e5-4a37-93a7-c88bbd452e3f"
   },
   "outputs": [
    {
     "name": "stdout",
     "output_type": "stream",
     "text": [
      "[*] Train mode\n",
      "[*] Building the model...\n",
      "[*] Compiling the model and starting train...\n",
      "2022-12-15 11:18:06.089468: W tensorflow/core/common_runtime/gpu/gpu_bfc_allocator.cc:42] Overriding orig_value setting because the TF_FORCE_GPU_ALLOW_GROWTH environment variable is set. Original config value was 0.\n",
      "*** VOCABULARY\n",
      "    words_vocab      = 6670\n",
      "    postags_vocab    = 20\n",
      "    relations_vocab  = 46\n",
      "*** PARSER MODEL\n",
      "    sequence_length  = 4\n",
      "    embeddings_dim   = 128\n",
      "    dense_dim        = 192\n",
      "*** COMPILATION\n",
      "    optimizer        = adam\n",
      "    loss_fucntion    = categorical_crossentropy\n",
      "    learning_rate    = 0.001\n",
      "    metrics          = ['acc']\n",
      "Epoch 1/10\n",
      "2603/2603 [==============================] - 16s 6ms/step - loss: 0.9180 - action_loss: 0.3713 - relation_loss: 0.5467 - action_acc: 0.8606 - relation_acc: 0.8332 - val_loss: 0.8149 - val_action_loss: 0.3518 - val_relation_loss: 0.4630 - val_action_acc: 0.8774 - val_relation_acc: 0.8500\n",
      "Epoch 2/10\n",
      "2603/2603 [==============================] - 15s 6ms/step - loss: 0.4129 - action_loss: 0.1712 - relation_loss: 0.2416 - action_acc: 0.9397 - relation_acc: 0.9228 - val_loss: 0.8745 - val_action_loss: 0.3977 - val_relation_loss: 0.4767 - val_action_acc: 0.8731 - val_relation_acc: 0.8543\n",
      "Epoch 3/10\n",
      "2603/2603 [==============================] - 15s 6ms/step - loss: 0.1983 - action_loss: 0.0840 - relation_loss: 0.1142 - action_acc: 0.9707 - relation_acc: 0.9642 - val_loss: 1.0822 - val_action_loss: 0.4989 - val_relation_loss: 0.5832 - val_action_acc: 0.8655 - val_relation_acc: 0.8450\n",
      "Epoch 4/10\n",
      "2603/2603 [==============================] - 15s 6ms/step - loss: 0.1001 - action_loss: 0.0460 - relation_loss: 0.0540 - action_acc: 0.9842 - relation_acc: 0.9837 - val_loss: 1.2762 - val_action_loss: 0.5918 - val_relation_loss: 0.6844 - val_action_acc: 0.8617 - val_relation_acc: 0.8450\n",
      "Epoch 5/10\n",
      "2603/2603 [==============================] - 15s 6ms/step - loss: 0.0543 - action_loss: 0.0270 - relation_loss: 0.0273 - action_acc: 0.9908 - relation_acc: 0.9916 - val_loss: 1.5521 - val_action_loss: 0.7266 - val_relation_loss: 0.8255 - val_action_acc: 0.8651 - val_relation_acc: 0.8432\n",
      "Epoch 6/10\n",
      "2603/2603 [==============================] - 15s 6ms/step - loss: 0.0374 - action_loss: 0.0194 - relation_loss: 0.0181 - action_acc: 0.9935 - relation_acc: 0.9944 - val_loss: 1.7951 - val_action_loss: 0.8361 - val_relation_loss: 0.9590 - val_action_acc: 0.8574 - val_relation_acc: 0.8369\n",
      "Epoch 7/10\n",
      "2603/2603 [==============================] - 15s 6ms/step - loss: 0.0321 - action_loss: 0.0175 - relation_loss: 0.0146 - action_acc: 0.9941 - relation_acc: 0.9955 - val_loss: 2.0348 - val_action_loss: 0.9557 - val_relation_loss: 1.0791 - val_action_acc: 0.8522 - val_relation_acc: 0.8352\n",
      "Epoch 8/10\n",
      "2603/2603 [==============================] - 15s 6ms/step - loss: 0.0228 - action_loss: 0.0124 - relation_loss: 0.0105 - action_acc: 0.9961 - relation_acc: 0.9967 - val_loss: 2.1310 - val_action_loss: 1.0110 - val_relation_loss: 1.1200 - val_action_acc: 0.8574 - val_relation_acc: 0.8358\n",
      "Epoch 9/10\n",
      "2603/2603 [==============================] - 15s 6ms/step - loss: 0.0214 - action_loss: 0.0115 - relation_loss: 0.0099 - action_acc: 0.9963 - relation_acc: 0.9967 - val_loss: 2.2417 - val_action_loss: 1.0440 - val_relation_loss: 1.1976 - val_action_acc: 0.8545 - val_relation_acc: 0.8358\n",
      "Epoch 10/10\n",
      "2603/2603 [==============================] - 15s 6ms/step - loss: 0.0183 - action_loss: 0.0097 - relation_loss: 0.0087 - action_acc: 0.9971 - relation_acc: 0.9974 - val_loss: 2.3324 - val_action_loss: 1.0598 - val_relation_loss: 1.2726 - val_action_acc: 0.8580 - val_relation_acc: 0.8412\n"
     ]
    }
   ],
   "source": [
    "!python main.py train --input ./data/UD_English-ParTUT/ --output ./models/d --seq_l 4 --hidden_size 192 --embedding_size 128"
   ]
  },
  {
   "cell_type": "code",
   "execution_count": null,
   "metadata": {
    "colab": {
     "base_uri": "https://localhost:8080/"
    },
    "id": "SmZzpM5BLiw-",
    "outputId": "63016f31-e5c2-4816-db61-4fb5033cd77e"
   },
   "outputs": [
    {
     "name": "stdout",
     "output_type": "stream",
     "text": [
      "[*] Plot mode\n",
      "2022-12-15 11:21:35.843505: W tensorflow/core/common_runtime/gpu/gpu_bfc_allocator.cc:42] Overriding orig_value setting because the TF_FORCE_GPU_ALLOW_GROWTH environment variable is set. Original config value was 0.\n",
      "[*] Model loaded\n",
      "    Sequence length: 4\n",
      "    Embedding dimension: 128\n",
      "    Hidden layer dimension: 192\n",
      "[*] Model loaded from ./models/d/model\n"
     ]
    }
   ],
   "source": [
    "!python main.py plot --model ./models/d/model --output ./models/d"
   ]
  },
  {
   "cell_type": "code",
   "execution_count": null,
   "metadata": {
    "colab": {
     "base_uri": "https://localhost:8080/"
    },
    "id": "65ZR7PNrLiw_",
    "outputId": "ee020790-8d28-4930-cf50-8843a53e27b4"
   },
   "outputs": [
    {
     "name": "stdout",
     "output_type": "stream",
     "text": [
      "[*] Evaluation mode\n",
      "    Postprocess:  True\n",
      "    Multi-root:  True\n",
      "2022-12-15 11:21:41.380166: W tensorflow/core/common_runtime/gpu/gpu_bfc_allocator.cc:42] Overriding orig_value setting because the TF_FORCE_GPU_ALLOW_GROWTH environment variable is set. Original config value was 0.\n",
      "[*] Model loaded\n",
      "    Sequence length: 4\n",
      "    Embedding dimension: 128\n",
      "    Hidden layer dimension: 192\n",
      "[*] Model loaded from ./models/d/model\n",
      "[*] Predicting the test set...\n",
      "Time:  0:04:12.424905\n",
      "Total tokens:  3561\n",
      "Total sentences:  153\n",
      "Tokens per second:  14.10716585195902\n",
      "Sentences per second:  0.6061208580032941\n",
      "[*] Postprocessing the test set...\n",
      "[*] Writing the test set...\n"
     ]
    }
   ],
   "source": [
    "!python main.py eval --input ./data/UD_English-ParTUT/ --output ./models/d --model ./models/d/model"
   ]
  },
  {
   "cell_type": "code",
   "execution_count": null,
   "metadata": {
    "colab": {
     "base_uri": "https://localhost:8080/"
    },
    "id": "IqiQ-g0MLiw_",
    "outputId": "3dc43d07-ff91-440d-ca1c-d95181384d5d"
   },
   "outputs": [
    {
     "name": "stdout",
     "output_type": "stream",
     "text": [
      "Metric     | Precision |    Recall |  F1 Score | AligndAcc\n",
      "-----------+-----------+-----------+-----------+-----------\n",
      "Tokens     |    100.00 |    100.00 |    100.00 |\n",
      "Sentences  |    100.00 |    100.00 |    100.00 |\n",
      "Words      |    100.00 |    100.00 |    100.00 |\n",
      "UPOS       |    100.00 |    100.00 |    100.00 |    100.00\n",
      "XPOS       |      0.15 |      0.15 |      0.15 |      0.15\n",
      "UFeats     |     36.06 |     36.06 |     36.06 |     36.06\n",
      "AllTags    |      0.15 |      0.15 |      0.15 |      0.15\n",
      "Lemmas     |      0.00 |      0.00 |      0.00 |      0.00\n",
      "UAS        |     66.61 |     66.61 |     66.61 |     66.61\n",
      "LAS        |     58.66 |     58.66 |     58.66 |     58.66\n",
      "CLAS       |     48.45 |     45.76 |     47.07 |     45.76\n",
      "MLAS       |      6.84 |      6.46 |      6.64 |      6.46\n",
      "BLEX       |      0.00 |      0.00 |      0.00 |      0.00\n"
     ]
    }
   ],
   "source": [
    "!python ./eval/conll18_ud_eval.py ./models/d/test_clean.conllu ./models/d/test_pred.conllu --verbose"
   ]
  },
  {
   "cell_type": "markdown",
   "metadata": {
    "id": "hLt09AgDAWdl"
   },
   "source": [
    "# Model: seql=2, hdim=128, edim=128\n"
   ]
  },
  {
   "cell_type": "code",
   "execution_count": null,
   "metadata": {
    "id": "WirYdADsAYLJ"
   },
   "outputs": [],
   "source": [
    "!mkdir ./models/b"
   ]
  },
  {
   "cell_type": "code",
   "execution_count": null,
   "metadata": {
    "colab": {
     "base_uri": "https://localhost:8080/"
    },
    "id": "byZgvUucAa8x",
    "outputId": "ae46d6ea-45d1-42fc-bf15-732085c4651d"
   },
   "outputs": [
    {
     "name": "stdout",
     "output_type": "stream",
     "text": [
      "[*] Train mode\n",
      "[*] Building the model...\n",
      "[*] Compiling the model and starting train...\n",
      "2022-12-15 11:26:04.532162: W tensorflow/core/common_runtime/gpu/gpu_bfc_allocator.cc:42] Overriding orig_value setting because the TF_FORCE_GPU_ALLOW_GROWTH environment variable is set. Original config value was 0.\n",
      "*** VOCABULARY\n",
      "    words_vocab      = 6670\n",
      "    postags_vocab    = 20\n",
      "    relations_vocab  = 46\n",
      "*** PARSER MODEL\n",
      "    sequence_length  = 4\n",
      "    embeddings_dim   = 128\n",
      "    dense_dim        = 128\n",
      "*** COMPILATION\n",
      "    optimizer        = adam\n",
      "    loss_fucntion    = categorical_crossentropy\n",
      "    learning_rate    = 0.001\n",
      "    metrics          = ['acc']\n",
      "Epoch 1/10\n",
      "2603/2603 [==============================] - 17s 6ms/step - loss: 0.9525 - action_loss: 0.3798 - relation_loss: 0.5727 - action_acc: 0.8566 - relation_acc: 0.8274 - val_loss: 0.8432 - val_action_loss: 0.3655 - val_relation_loss: 0.4777 - val_action_acc: 0.8707 - val_relation_acc: 0.8481\n",
      "Epoch 2/10\n",
      "2603/2603 [==============================] - 16s 6ms/step - loss: 0.4375 - action_loss: 0.1814 - relation_loss: 0.2561 - action_acc: 0.9354 - relation_acc: 0.9178 - val_loss: 0.8751 - val_action_loss: 0.3966 - val_relation_loss: 0.4785 - val_action_acc: 0.8740 - val_relation_acc: 0.8582\n",
      "Epoch 3/10\n",
      "2603/2603 [==============================] - 15s 6ms/step - loss: 0.2193 - action_loss: 0.0923 - relation_loss: 0.1270 - action_acc: 0.9688 - relation_acc: 0.9601 - val_loss: 1.0435 - val_action_loss: 0.4788 - val_relation_loss: 0.5647 - val_action_acc: 0.8680 - val_relation_acc: 0.8475\n",
      "Epoch 4/10\n",
      "2603/2603 [==============================] - 15s 6ms/step - loss: 0.1141 - action_loss: 0.0512 - relation_loss: 0.0629 - action_acc: 0.9829 - relation_acc: 0.9801 - val_loss: 1.2321 - val_action_loss: 0.5827 - val_relation_loss: 0.6494 - val_action_acc: 0.8660 - val_relation_acc: 0.8436\n",
      "Epoch 5/10\n",
      "2603/2603 [==============================] - 15s 6ms/step - loss: 0.0645 - action_loss: 0.0316 - relation_loss: 0.0330 - action_acc: 0.9894 - relation_acc: 0.9899 - val_loss: 1.4404 - val_action_loss: 0.6769 - val_relation_loss: 0.7635 - val_action_acc: 0.8699 - val_relation_acc: 0.8451\n",
      "Epoch 6/10\n",
      "2603/2603 [==============================] - 15s 6ms/step - loss: 0.0404 - action_loss: 0.0210 - relation_loss: 0.0194 - action_acc: 0.9930 - relation_acc: 0.9942 - val_loss: 1.6568 - val_action_loss: 0.7786 - val_relation_loss: 0.8783 - val_action_acc: 0.8639 - val_relation_acc: 0.8473\n",
      "Epoch 7/10\n",
      "2603/2603 [==============================] - 15s 6ms/step - loss: 0.0312 - action_loss: 0.0169 - relation_loss: 0.0143 - action_acc: 0.9947 - relation_acc: 0.9957 - val_loss: 1.8138 - val_action_loss: 0.8614 - val_relation_loss: 0.9524 - val_action_acc: 0.8606 - val_relation_acc: 0.8368\n",
      "Epoch 8/10\n",
      "2603/2603 [==============================] - 15s 6ms/step - loss: 0.0249 - action_loss: 0.0137 - relation_loss: 0.0111 - action_acc: 0.9951 - relation_acc: 0.9965 - val_loss: 2.0601 - val_action_loss: 0.9823 - val_relation_loss: 1.0778 - val_action_acc: 0.8633 - val_relation_acc: 0.8395\n",
      "Epoch 9/10\n",
      "2603/2603 [==============================] - 15s 6ms/step - loss: 0.0223 - action_loss: 0.0112 - relation_loss: 0.0111 - action_acc: 0.9965 - relation_acc: 0.9965 - val_loss: 2.1150 - val_action_loss: 0.9909 - val_relation_loss: 1.1240 - val_action_acc: 0.8619 - val_relation_acc: 0.8395\n",
      "Epoch 10/10\n",
      "2603/2603 [==============================] - 15s 6ms/step - loss: 0.0156 - action_loss: 0.0086 - relation_loss: 0.0070 - action_acc: 0.9973 - relation_acc: 0.9980 - val_loss: 2.3488 - val_action_loss: 1.0968 - val_relation_loss: 1.2520 - val_action_acc: 0.8641 - val_relation_acc: 0.8368\n"
     ]
    }
   ],
   "source": [
    "!python main.py train --input ./data/UD_English-ParTUT/ --output ./models/b --seq_l 4 --hidden_size 128 --embedding_size 128"
   ]
  },
  {
   "cell_type": "code",
   "execution_count": null,
   "metadata": {
    "colab": {
     "base_uri": "https://localhost:8080/"
    },
    "id": "7U-Z3zxJBBob",
    "outputId": "e69d832b-86cf-4dbf-d35b-4ee1042c4a1d"
   },
   "outputs": [
    {
     "name": "stdout",
     "output_type": "stream",
     "text": [
      "[*] Plot mode\n",
      "2022-12-15 11:28:44.623950: W tensorflow/core/common_runtime/gpu/gpu_bfc_allocator.cc:42] Overriding orig_value setting because the TF_FORCE_GPU_ALLOW_GROWTH environment variable is set. Original config value was 0.\n",
      "[*] Model loaded\n",
      "    Sequence length: 4\n",
      "    Embedding dimension: 128\n",
      "    Hidden layer dimension: 128\n",
      "[*] Model loaded from ./models/b/model\n"
     ]
    }
   ],
   "source": [
    "!python main.py plot --model ./models/b/model --output ./models/b"
   ]
  },
  {
   "cell_type": "code",
   "execution_count": null,
   "metadata": {
    "colab": {
     "base_uri": "https://localhost:8080/"
    },
    "id": "7WMskhNbA28R",
    "outputId": "b9468132-28f9-48be-d5c6-b1795ab59fb7"
   },
   "outputs": [
    {
     "name": "stdout",
     "output_type": "stream",
     "text": [
      "[*] Evaluation mode\n",
      "    Postprocess:  True\n",
      "    Multi-root:  True\n",
      "2022-12-15 11:28:50.145327: W tensorflow/core/common_runtime/gpu/gpu_bfc_allocator.cc:42] Overriding orig_value setting because the TF_FORCE_GPU_ALLOW_GROWTH environment variable is set. Original config value was 0.\n",
      "[*] Model loaded\n",
      "    Sequence length: 4\n",
      "    Embedding dimension: 128\n",
      "    Hidden layer dimension: 128\n",
      "[*] Model loaded from ./models/b/model\n",
      "[*] Predicting the test set...\n",
      "Time:  0:04:00.657767\n",
      "Total tokens:  3561\n",
      "Total sentences:  153\n",
      "Tokens per second:  14.79694607155563\n",
      "Sentences per second:  0.6357575818444289\n",
      "[*] Postprocessing the test set...\n",
      "[*] Writing the test set...\n"
     ]
    }
   ],
   "source": [
    "!python main.py eval --input ./data/UD_English-ParTUT/ --output ./models/b --model ./models/b/model"
   ]
  },
  {
   "cell_type": "code",
   "execution_count": null,
   "metadata": {
    "colab": {
     "base_uri": "https://localhost:8080/"
    },
    "id": "gZ_5u9iNA7Wn",
    "outputId": "71dc2714-b200-471c-8ae2-85ae8c8fb53f"
   },
   "outputs": [
    {
     "name": "stdout",
     "output_type": "stream",
     "text": [
      "Metric     | Precision |    Recall |  F1 Score | AligndAcc\n",
      "-----------+-----------+-----------+-----------+-----------\n",
      "Tokens     |    100.00 |    100.00 |    100.00 |\n",
      "Sentences  |    100.00 |    100.00 |    100.00 |\n",
      "Words      |    100.00 |    100.00 |    100.00 |\n",
      "UPOS       |    100.00 |    100.00 |    100.00 |    100.00\n",
      "XPOS       |      0.15 |      0.15 |      0.15 |      0.15\n",
      "UFeats     |     36.06 |     36.06 |     36.06 |     36.06\n",
      "AllTags    |      0.15 |      0.15 |      0.15 |      0.15\n",
      "Lemmas     |      0.00 |      0.00 |      0.00 |      0.00\n",
      "UAS        |     57.81 |     57.81 |     57.81 |     57.81\n",
      "LAS        |     50.91 |     50.91 |     50.91 |     50.91\n",
      "CLAS       |     40.21 |     38.18 |     39.17 |     38.18\n",
      "MLAS       |      6.15 |      5.84 |      5.99 |      5.84\n",
      "BLEX       |      0.00 |      0.00 |      0.00 |      0.00\n"
     ]
    }
   ],
   "source": [
    "!python ./eval/conll18_ud_eval.py ./models/b/test_clean.conllu ./models/b/test_pred.conllu --verbose"
   ]
  },
  {
   "cell_type": "markdown",
   "metadata": {
    "id": "Uvl-KPTHCTu9"
   },
   "source": [
    "# Model: seql=2, hdim=64, edim=128\n"
   ]
  },
  {
   "cell_type": "code",
   "execution_count": null,
   "metadata": {
    "id": "0YyZbUY3CnV4"
   },
   "outputs": [],
   "source": [
    "!mkdir ./models/c"
   ]
  },
  {
   "cell_type": "code",
   "execution_count": null,
   "metadata": {
    "colab": {
     "base_uri": "https://localhost:8080/"
    },
    "id": "q_VgPP_3CpWF",
    "outputId": "7697348b-357f-4f77-e427-e38d4686cb5a"
   },
   "outputs": [
    {
     "name": "stdout",
     "output_type": "stream",
     "text": [
      "[*] Train mode\n",
      "[*] Building the model...\n",
      "[*] Compiling the model and starting train...\n",
      "2022-12-15 11:33:01.375522: W tensorflow/core/common_runtime/gpu/gpu_bfc_allocator.cc:42] Overriding orig_value setting because the TF_FORCE_GPU_ALLOW_GROWTH environment variable is set. Original config value was 0.\n",
      "*** VOCABULARY\n",
      "    words_vocab      = 6670\n",
      "    postags_vocab    = 20\n",
      "    relations_vocab  = 46\n",
      "*** PARSER MODEL\n",
      "    sequence_length  = 4\n",
      "    embeddings_dim   = 128\n",
      "    dense_dim        = 64\n",
      "*** COMPILATION\n",
      "    optimizer        = adam\n",
      "    loss_fucntion    = categorical_crossentropy\n",
      "    learning_rate    = 0.001\n",
      "    metrics          = ['acc']\n",
      "Epoch 1/10\n",
      "2603/2603 [==============================] - 17s 6ms/step - loss: 1.0205 - action_loss: 0.4023 - relation_loss: 0.6182 - action_acc: 0.8475 - relation_acc: 0.8164 - val_loss: 0.8598 - val_action_loss: 0.3728 - val_relation_loss: 0.4870 - val_action_acc: 0.8635 - val_relation_acc: 0.8450\n",
      "Epoch 2/10\n",
      "2603/2603 [==============================] - 14s 6ms/step - loss: 0.4906 - action_loss: 0.2029 - relation_loss: 0.2877 - action_acc: 0.9276 - relation_acc: 0.9081 - val_loss: 0.9021 - val_action_loss: 0.4127 - val_relation_loss: 0.4894 - val_action_acc: 0.8623 - val_relation_acc: 0.8512\n",
      "Epoch 3/10\n",
      "2603/2603 [==============================] - 15s 6ms/step - loss: 0.2659 - action_loss: 0.1090 - relation_loss: 0.1569 - action_acc: 0.9628 - relation_acc: 0.9523 - val_loss: 1.0211 - val_action_loss: 0.4691 - val_relation_loss: 0.5520 - val_action_acc: 0.8610 - val_relation_acc: 0.8420\n",
      "Epoch 4/10\n",
      "2603/2603 [==============================] - 15s 6ms/step - loss: 0.1480 - action_loss: 0.0649 - relation_loss: 0.0831 - action_acc: 0.9786 - relation_acc: 0.9751 - val_loss: 1.1692 - val_action_loss: 0.5685 - val_relation_loss: 0.6007 - val_action_acc: 0.8598 - val_relation_acc: 0.8473\n",
      "Epoch 5/10\n",
      "2603/2603 [==============================] - 15s 6ms/step - loss: 0.0830 - action_loss: 0.0389 - relation_loss: 0.0441 - action_acc: 0.9875 - relation_acc: 0.9872 - val_loss: 1.3958 - val_action_loss: 0.6774 - val_relation_loss: 0.7184 - val_action_acc: 0.8557 - val_relation_acc: 0.8393\n",
      "Epoch 6/10\n",
      "2603/2603 [==============================] - 15s 6ms/step - loss: 0.0547 - action_loss: 0.0277 - relation_loss: 0.0270 - action_acc: 0.9914 - relation_acc: 0.9920 - val_loss: 1.5332 - val_action_loss: 0.7382 - val_relation_loss: 0.7950 - val_action_acc: 0.8502 - val_relation_acc: 0.8416\n",
      "Epoch 7/10\n",
      "2603/2603 [==============================] - 15s 6ms/step - loss: 0.0355 - action_loss: 0.0191 - relation_loss: 0.0165 - action_acc: 0.9937 - relation_acc: 0.9952 - val_loss: 1.7901 - val_action_loss: 0.8588 - val_relation_loss: 0.9314 - val_action_acc: 0.8518 - val_relation_acc: 0.8358\n",
      "Epoch 8/10\n",
      "2603/2603 [==============================] - 15s 6ms/step - loss: 0.0268 - action_loss: 0.0147 - relation_loss: 0.0121 - action_acc: 0.9952 - relation_acc: 0.9963 - val_loss: 2.0084 - val_action_loss: 0.9742 - val_relation_loss: 1.0342 - val_action_acc: 0.8469 - val_relation_acc: 0.8313\n",
      "Epoch 9/10\n",
      "2603/2603 [==============================] - 15s 6ms/step - loss: 0.0222 - action_loss: 0.0126 - relation_loss: 0.0096 - action_acc: 0.9960 - relation_acc: 0.9972 - val_loss: 2.0844 - val_action_loss: 0.9881 - val_relation_loss: 1.0963 - val_action_acc: 0.8533 - val_relation_acc: 0.8356\n",
      "Epoch 10/10\n",
      "2603/2603 [==============================] - 15s 6ms/step - loss: 0.0185 - action_loss: 0.0097 - relation_loss: 0.0088 - action_acc: 0.9970 - relation_acc: 0.9974 - val_loss: 2.3499 - val_action_loss: 1.1269 - val_relation_loss: 1.2230 - val_action_acc: 0.8479 - val_relation_acc: 0.8321\n"
     ]
    }
   ],
   "source": [
    "!python main.py train --input ./data/UD_English-ParTUT/ --output ./models/c --seq_l 4 --hidden_size 64 --embedding_size 128"
   ]
  },
  {
   "cell_type": "code",
   "execution_count": null,
   "metadata": {
    "colab": {
     "base_uri": "https://localhost:8080/"
    },
    "id": "75qHILE_Ct74",
    "outputId": "d0905a83-1ef7-4f49-bf49-c18983915ef6"
   },
   "outputs": [
    {
     "name": "stdout",
     "output_type": "stream",
     "text": [
      "[*] Plot mode\n",
      "2022-12-15 11:35:37.641572: W tensorflow/core/common_runtime/gpu/gpu_bfc_allocator.cc:42] Overriding orig_value setting because the TF_FORCE_GPU_ALLOW_GROWTH environment variable is set. Original config value was 0.\n",
      "[*] Model loaded\n",
      "    Sequence length: 4\n",
      "    Embedding dimension: 128\n",
      "    Hidden layer dimension: 64\n",
      "[*] Model loaded from ./models/c/model\n"
     ]
    }
   ],
   "source": [
    "!python main.py plot --model ./models/c/model --output ./models/c"
   ]
  },
  {
   "cell_type": "code",
   "execution_count": null,
   "metadata": {
    "colab": {
     "base_uri": "https://localhost:8080/"
    },
    "id": "t_YPGt7aCwqG",
    "outputId": "bb8c4c56-da6f-42f2-de4c-347ee6c00e36"
   },
   "outputs": [
    {
     "name": "stdout",
     "output_type": "stream",
     "text": [
      "[*] Evaluation mode\n",
      "    Postprocess:  True\n",
      "    Multi-root:  True\n",
      "2022-12-15 11:35:42.968894: W tensorflow/core/common_runtime/gpu/gpu_bfc_allocator.cc:42] Overriding orig_value setting because the TF_FORCE_GPU_ALLOW_GROWTH environment variable is set. Original config value was 0.\n",
      "[*] Model loaded\n",
      "    Sequence length: 4\n",
      "    Embedding dimension: 128\n",
      "    Hidden layer dimension: 64\n",
      "[*] Model loaded from ./models/c/model\n",
      "[*] Predicting the test set...\n",
      "Time:  0:04:14.218865\n",
      "Total tokens:  3561\n",
      "Total sentences:  153\n",
      "Tokens per second:  14.007615052486369\n",
      "Sentences per second:  0.6018436121961287\n",
      "[*] Postprocessing the test set...\n",
      "[*] Writing the test set...\n"
     ]
    }
   ],
   "source": [
    "!python main.py eval --input ./data/UD_English-ParTUT/ --output ./models/c --model ./models/c/model"
   ]
  },
  {
   "cell_type": "code",
   "execution_count": null,
   "metadata": {
    "colab": {
     "base_uri": "https://localhost:8080/"
    },
    "id": "sCYayC9hC18Z",
    "outputId": "0a79e4c5-a92b-49d8-d619-6ae7dfa74272"
   },
   "outputs": [
    {
     "name": "stdout",
     "output_type": "stream",
     "text": [
      "Metric     | Precision |    Recall |  F1 Score | AligndAcc\n",
      "-----------+-----------+-----------+-----------+-----------\n",
      "Tokens     |    100.00 |    100.00 |    100.00 |\n",
      "Sentences  |    100.00 |    100.00 |    100.00 |\n",
      "Words      |    100.00 |    100.00 |    100.00 |\n",
      "UPOS       |    100.00 |    100.00 |    100.00 |    100.00\n",
      "XPOS       |      0.15 |      0.15 |      0.15 |      0.15\n",
      "UFeats     |     36.06 |     36.06 |     36.06 |     36.06\n",
      "AllTags    |      0.15 |      0.15 |      0.15 |      0.15\n",
      "Lemmas     |      0.00 |      0.00 |      0.00 |      0.00\n",
      "UAS        |     65.02 |     65.02 |     65.02 |     65.02\n",
      "LAS        |     57.19 |     57.19 |     57.19 |     57.19\n",
      "CLAS       |     44.99 |     43.91 |     44.44 |     43.91\n",
      "MLAS       |      6.56 |      6.40 |      6.48 |      6.40\n",
      "BLEX       |      0.00 |      0.00 |      0.00 |      0.00\n"
     ]
    }
   ],
   "source": [
    "!python ./eval/conll18_ud_eval.py ./models/c/test_clean.conllu ./models/c/test_pred.conllu --verbose"
   ]
  },
  {
   "cell_type": "markdown",
   "metadata": {
    "id": "drpMQ6y_Rpbd"
   },
   "source": [
    "# Model: seql=2, hdim=0, edim=128\n"
   ]
  },
  {
   "cell_type": "code",
   "execution_count": null,
   "metadata": {
    "id": "EBG3vRDqUoPN"
   },
   "outputs": [],
   "source": [
    "!mkdir ./models/s"
   ]
  },
  {
   "cell_type": "code",
   "execution_count": null,
   "metadata": {
    "colab": {
     "base_uri": "https://localhost:8080/"
    },
    "id": "lZA5A6eeUoPO",
    "outputId": "eb264995-1239-49c0-be41-7ee58a975647"
   },
   "outputs": [
    {
     "name": "stdout",
     "output_type": "stream",
     "text": [
      "[*] Train mode\n",
      "[*] Building the model...\n",
      "[*] Compiling the model and starting train...\n",
      "2022-12-15 11:40:08.593131: W tensorflow/core/common_runtime/gpu/gpu_bfc_allocator.cc:42] Overriding orig_value setting because the TF_FORCE_GPU_ALLOW_GROWTH environment variable is set. Original config value was 0.\n",
      "*** VOCABULARY\n",
      "    words_vocab      = 6670\n",
      "    postags_vocab    = 20\n",
      "    relations_vocab  = 46\n",
      "*** PARSER MODEL\n",
      "    sequence_length  = 4\n",
      "    embeddings_dim   = 128\n",
      "    dense_dim        = 0\n",
      "*** COMPILATION\n",
      "    optimizer        = adam\n",
      "    loss_fucntion    = categorical_crossentropy\n",
      "    learning_rate    = 0.001\n",
      "    metrics          = ['acc']\n",
      "Epoch 1/10\n",
      "2603/2603 [==============================] - 16s 6ms/step - loss: 1.1082 - action_loss: 0.4550 - relation_loss: 0.6532 - action_acc: 0.8303 - relation_acc: 0.8132 - val_loss: 0.9486 - val_action_loss: 0.4311 - val_relation_loss: 0.5175 - val_action_acc: 0.8438 - val_relation_acc: 0.8366\n",
      "Epoch 2/10\n",
      "2603/2603 [==============================] - 14s 6ms/step - loss: 0.6207 - action_loss: 0.2891 - relation_loss: 0.3316 - action_acc: 0.8956 - relation_acc: 0.8980 - val_loss: 1.0146 - val_action_loss: 0.4782 - val_relation_loss: 0.5363 - val_action_acc: 0.8358 - val_relation_acc: 0.8340\n",
      "Epoch 3/10\n",
      "2603/2603 [==============================] - 15s 6ms/step - loss: 0.4085 - action_loss: 0.2078 - relation_loss: 0.2007 - action_acc: 0.9286 - relation_acc: 0.9412 - val_loss: 1.1002 - val_action_loss: 0.5385 - val_relation_loss: 0.5617 - val_action_acc: 0.8309 - val_relation_acc: 0.8369\n",
      "Epoch 4/10\n",
      "2603/2603 [==============================] - 15s 6ms/step - loss: 0.2825 - action_loss: 0.1591 - relation_loss: 0.1234 - action_acc: 0.9470 - relation_acc: 0.9650 - val_loss: 1.2437 - val_action_loss: 0.6239 - val_relation_loss: 0.6198 - val_action_acc: 0.8198 - val_relation_acc: 0.8276\n",
      "Epoch 5/10\n",
      "2603/2603 [==============================] - 14s 6ms/step - loss: 0.2046 - action_loss: 0.1278 - relation_loss: 0.0768 - action_acc: 0.9580 - relation_acc: 0.9795 - val_loss: 1.4020 - val_action_loss: 0.6971 - val_relation_loss: 0.7049 - val_action_acc: 0.8168 - val_relation_acc: 0.8244\n",
      "Epoch 6/10\n",
      "2603/2603 [==============================] - 14s 6ms/step - loss: 0.1560 - action_loss: 0.1051 - relation_loss: 0.0509 - action_acc: 0.9650 - relation_acc: 0.9869 - val_loss: 1.5336 - val_action_loss: 0.7900 - val_relation_loss: 0.7435 - val_action_acc: 0.8108 - val_relation_acc: 0.8235\n",
      "Epoch 7/10\n",
      "2603/2603 [==============================] - 14s 6ms/step - loss: 0.1223 - action_loss: 0.0876 - relation_loss: 0.0346 - action_acc: 0.9717 - relation_acc: 0.9915 - val_loss: 1.6936 - val_action_loss: 0.8804 - val_relation_loss: 0.8132 - val_action_acc: 0.8030 - val_relation_acc: 0.8207\n",
      "Epoch 8/10\n",
      "2603/2603 [==============================] - 14s 6ms/step - loss: 0.0995 - action_loss: 0.0748 - relation_loss: 0.0248 - action_acc: 0.9758 - relation_acc: 0.9940 - val_loss: 1.8597 - val_action_loss: 0.9704 - val_relation_loss: 0.8894 - val_action_acc: 0.7993 - val_relation_acc: 0.8194\n",
      "Epoch 9/10\n",
      "2603/2603 [==============================] - 15s 6ms/step - loss: 0.0835 - action_loss: 0.0655 - relation_loss: 0.0180 - action_acc: 0.9792 - relation_acc: 0.9956 - val_loss: 2.0130 - val_action_loss: 1.0422 - val_relation_loss: 0.9708 - val_action_acc: 0.7996 - val_relation_acc: 0.8133\n",
      "Epoch 10/10\n",
      "2603/2603 [==============================] - 14s 6ms/step - loss: 0.0713 - action_loss: 0.0571 - relation_loss: 0.0142 - action_acc: 0.9817 - relation_acc: 0.9966 - val_loss: 2.1126 - val_action_loss: 1.1274 - val_relation_loss: 0.9852 - val_action_acc: 0.7985 - val_relation_acc: 0.8182\n"
     ]
    }
   ],
   "source": [
    "!python main.py train --input ./data/UD_English-ParTUT/ --output ./models/s --seq_l 4 --hidden_size 0 --embedding_size 128"
   ]
  },
  {
   "cell_type": "code",
   "execution_count": null,
   "metadata": {
    "colab": {
     "base_uri": "https://localhost:8080/"
    },
    "id": "qiCJAb_iUoPO",
    "outputId": "c77f7925-c551-45d0-eecd-2314410ff2cb"
   },
   "outputs": [
    {
     "name": "stdout",
     "output_type": "stream",
     "text": [
      "[*] Plot mode\n",
      "2022-12-15 11:43:38.286981: W tensorflow/core/common_runtime/gpu/gpu_bfc_allocator.cc:42] Overriding orig_value setting because the TF_FORCE_GPU_ALLOW_GROWTH environment variable is set. Original config value was 0.\n",
      "[*] Model loaded\n",
      "    Sequence length: 4\n",
      "    Embedding dimension: 128\n",
      "    Hidden layer dimension: None\n",
      "[*] Model loaded from ./models/s/model\n"
     ]
    }
   ],
   "source": [
    "!python main.py plot --model ./models/s/model --output ./models/s"
   ]
  },
  {
   "cell_type": "code",
   "execution_count": null,
   "metadata": {
    "colab": {
     "base_uri": "https://localhost:8080/"
    },
    "id": "rCRs94uoUoPO",
    "outputId": "d279eab8-bc14-411b-a919-8966200fef7a"
   },
   "outputs": [
    {
     "name": "stdout",
     "output_type": "stream",
     "text": [
      "[*] Evaluation mode\n",
      "    Postprocess:  True\n",
      "    Multi-root:  True\n",
      "2022-12-15 11:43:43.705799: W tensorflow/core/common_runtime/gpu/gpu_bfc_allocator.cc:42] Overriding orig_value setting because the TF_FORCE_GPU_ALLOW_GROWTH environment variable is set. Original config value was 0.\n",
      "[*] Model loaded\n",
      "    Sequence length: 4\n",
      "    Embedding dimension: 128\n",
      "    Hidden layer dimension: None\n",
      "[*] Model loaded from ./models/s/model\n",
      "[*] Predicting the test set...\n",
      "Time:  0:03:52.064970\n",
      "Total tokens:  3561\n",
      "Total sentences:  153\n",
      "Tokens per second:  15.344840714218954\n",
      "Sentences per second:  0.6592981267271834\n",
      "[*] Postprocessing the test set...\n",
      "[*] Writing the test set...\n"
     ]
    }
   ],
   "source": [
    "!python main.py eval --input ./data/UD_English-ParTUT/ --output ./models/s --model ./models/s/model"
   ]
  },
  {
   "cell_type": "code",
   "execution_count": null,
   "metadata": {
    "colab": {
     "base_uri": "https://localhost:8080/"
    },
    "id": "2-1Rl_t_UoPP",
    "outputId": "cbb7cd4a-e5d5-4b5e-ced0-a0dc7b902fd2"
   },
   "outputs": [
    {
     "name": "stdout",
     "output_type": "stream",
     "text": [
      "Metric     | Precision |    Recall |  F1 Score | AligndAcc\n",
      "-----------+-----------+-----------+-----------+-----------\n",
      "Tokens     |    100.00 |    100.00 |    100.00 |\n",
      "Sentences  |    100.00 |    100.00 |    100.00 |\n",
      "Words      |    100.00 |    100.00 |    100.00 |\n",
      "UPOS       |    100.00 |    100.00 |    100.00 |    100.00\n",
      "XPOS       |      0.15 |      0.15 |      0.15 |      0.15\n",
      "UFeats     |     36.06 |     36.06 |     36.06 |     36.06\n",
      "AllTags    |      0.15 |      0.15 |      0.15 |      0.15\n",
      "Lemmas     |      0.00 |      0.00 |      0.00 |      0.00\n",
      "UAS        |     58.51 |     58.51 |     58.51 |     58.51\n",
      "LAS        |     50.09 |     50.09 |     50.09 |     50.09\n",
      "CLAS       |     44.04 |     35.88 |     39.54 |     35.88\n",
      "MLAS       |      6.75 |      5.50 |      6.06 |      5.50\n",
      "BLEX       |      0.00 |      0.00 |      0.00 |      0.00\n"
     ]
    }
   ],
   "source": [
    "!python ./eval/conll18_ud_eval.py ./models/s/test_clean.conllu ./models/s/test_pred.conllu --verbose"
   ]
  }
 ],
 "metadata": {
  "accelerator": "GPU",
  "colab": {
   "provenance": []
  },
  "gpuClass": "standard",
  "kernelspec": {
   "display_name": "Python 3 (ipykernel)",
   "language": "python",
   "name": "python3"
  },
  "language_info": {
   "codemirror_mode": {
    "name": "ipython",
    "version": 3
   },
   "file_extension": ".py",
   "mimetype": "text/x-python",
   "name": "python",
   "nbconvert_exporter": "python",
   "pygments_lexer": "ipython3",
   "version": "3.10.8"
  }
 },
 "nbformat": 4,
 "nbformat_minor": 4
}
