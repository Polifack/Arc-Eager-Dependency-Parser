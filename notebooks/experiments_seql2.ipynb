{
  "nbformat": 4,
  "nbformat_minor": 0,
  "metadata": {
    "colab": {
      "provenance": [],
      "collapsed_sections": [
        "56NzBEAS9DJq",
        "hh4f_dvuLiw8"
      ]
    },
    "kernelspec": {
      "name": "python3",
      "display_name": "Python 3"
    },
    "language_info": {
      "name": "python"
    },
    "accelerator": "GPU",
    "gpuClass": "standard"
  },
  "cells": [
    {
      "cell_type": "code",
      "source": [
        "!git clone https://github.com/Polifack/Arc-Eager-Dependency-Parser.git\n",
        "%cd Arc-Eager-Dependency-Parser/\n",
        "!git pull\n",
        "!mkdir ./models\n",
        "!ls"
      ],
      "metadata": {
        "colab": {
          "base_uri": "https://localhost:8080/"
        },
        "id": "T-wIovlOgQMH",
        "outputId": "2f3251e6-f1fc-4772-ac18-7d428881c438"
      },
      "execution_count": 1,
      "outputs": [
        {
          "output_type": "stream",
          "name": "stdout",
          "text": [
            "Cloning into 'Arc-Eager-Dependency-Parser'...\n",
            "remote: Enumerating objects: 119, done.\u001b[K\n",
            "remote: Counting objects: 100% (119/119), done.\u001b[K\n",
            "remote: Compressing objects: 100% (80/80), done.\u001b[K\n",
            "remote: Total 119 (delta 51), reused 100 (delta 32), pack-reused 0\u001b[K\n",
            "Receiving objects: 100% (119/119), 3.57 MiB | 12.60 MiB/s, done.\n",
            "Resolving deltas: 100% (51/51), done.\n",
            "/content/Arc-Eager-Dependency-Parser\n",
            "Already up to date.\n",
            "data  eval  install.sh\tLICENSE  main.py  models  README.MD  src\n"
          ]
        }
      ]
    },
    {
      "cell_type": "code",
      "source": [
        "!git pull"
      ],
      "metadata": {
        "colab": {
          "base_uri": "https://localhost:8080/"
        },
        "id": "UdkWmC5OUksC",
        "outputId": "d4dc3f2f-7244-480c-fd39-e38a945bef5d"
      },
      "execution_count": 2,
      "outputs": [
        {
          "output_type": "stream",
          "name": "stdout",
          "text": [
            "Already up to date.\n"
          ]
        }
      ]
    },
    {
      "cell_type": "markdown",
      "source": [
        "# Model: seql=2, hdim=256, edim=128\n"
      ],
      "metadata": {
        "id": "56NzBEAS9DJq"
      }
    },
    {
      "cell_type": "code",
      "source": [
        "!mkdir ./models/a"
      ],
      "metadata": {
        "id": "j3vKA7ZU9DJt"
      },
      "execution_count": 3,
      "outputs": []
    },
    {
      "cell_type": "code",
      "source": [
        "!python main.py train --input ./data/UD_English-ParTUT/ --output ./models/a --seq_l 2 --hidden_size 256 --embedding_size 128"
      ],
      "metadata": {
        "colab": {
          "base_uri": "https://localhost:8080/"
        },
        "outputId": "8f7633c5-66a6-4ec4-f108-be33657786db",
        "id": "dVpe7mOz9DJt"
      },
      "execution_count": 4,
      "outputs": [
        {
          "output_type": "stream",
          "name": "stdout",
          "text": [
            "[*] Train mode\n",
            "[*] Building the model...\n",
            "[*] Compiling the model and starting train...\n",
            "2022-12-15 12:19:53.694395: W tensorflow/core/common_runtime/gpu/gpu_bfc_allocator.cc:42] Overriding orig_value setting because the TF_FORCE_GPU_ALLOW_GROWTH environment variable is set. Original config value was 0.\n",
            "*** VOCABULARY\n",
            "    words_vocab      = 6670\n",
            "    postags_vocab    = 20\n",
            "    relations_vocab  = 46\n",
            "*** PARSER MODEL\n",
            "    sequence_length  = 2\n",
            "    embeddings_dim   = 128\n",
            "    dense_dim        = 256\n",
            "*** COMPILATION\n",
            "    optimizer        = adam\n",
            "    loss_fucntion    = categorical_crossentropy\n",
            "    learning_rate    = 0.001\n",
            "    metrics          = ['acc']\n",
            "Epoch 1/10\n",
            "2603/2603 [==============================] - 18s 6ms/step - loss: 0.9050 - action_loss: 0.3709 - relation_loss: 0.5341 - action_acc: 0.8600 - relation_acc: 0.8367 - val_loss: 0.8152 - val_action_loss: 0.3595 - val_relation_loss: 0.4558 - val_action_acc: 0.8740 - val_relation_acc: 0.8492\n",
            "Epoch 2/10\n",
            "2603/2603 [==============================] - 15s 6ms/step - loss: 0.4409 - action_loss: 0.1901 - relation_loss: 0.2507 - action_acc: 0.9311 - relation_acc: 0.9177 - val_loss: 0.8689 - val_action_loss: 0.4033 - val_relation_loss: 0.4656 - val_action_acc: 0.8676 - val_relation_acc: 0.8496\n",
            "Epoch 3/10\n",
            "2603/2603 [==============================] - 15s 6ms/step - loss: 0.2559 - action_loss: 0.1142 - relation_loss: 0.1417 - action_acc: 0.9607 - relation_acc: 0.9540 - val_loss: 1.0131 - val_action_loss: 0.4743 - val_relation_loss: 0.5388 - val_action_acc: 0.8633 - val_relation_acc: 0.8440\n",
            "Epoch 4/10\n",
            "2603/2603 [==============================] - 15s 6ms/step - loss: 0.1571 - action_loss: 0.0728 - relation_loss: 0.0842 - action_acc: 0.9750 - relation_acc: 0.9723 - val_loss: 1.2001 - val_action_loss: 0.5612 - val_relation_loss: 0.6389 - val_action_acc: 0.8625 - val_relation_acc: 0.8401\n",
            "Epoch 5/10\n",
            "2603/2603 [==============================] - 15s 6ms/step - loss: 0.1059 - action_loss: 0.0508 - relation_loss: 0.0552 - action_acc: 0.9826 - relation_acc: 0.9824 - val_loss: 1.3385 - val_action_loss: 0.6276 - val_relation_loss: 0.7109 - val_action_acc: 0.8547 - val_relation_acc: 0.8436\n",
            "Epoch 6/10\n",
            "2603/2603 [==============================] - 15s 6ms/step - loss: 0.0738 - action_loss: 0.0366 - relation_loss: 0.0372 - action_acc: 0.9875 - relation_acc: 0.9877 - val_loss: 1.5155 - val_action_loss: 0.7166 - val_relation_loss: 0.7989 - val_action_acc: 0.8567 - val_relation_acc: 0.8428\n",
            "Epoch 7/10\n",
            "2603/2603 [==============================] - 15s 6ms/step - loss: 0.0592 - action_loss: 0.0297 - relation_loss: 0.0296 - action_acc: 0.9902 - relation_acc: 0.9903 - val_loss: 1.7050 - val_action_loss: 0.8103 - val_relation_loss: 0.8947 - val_action_acc: 0.8543 - val_relation_acc: 0.8350\n",
            "Epoch 8/10\n",
            "2603/2603 [==============================] - 15s 6ms/step - loss: 0.0454 - action_loss: 0.0229 - relation_loss: 0.0225 - action_acc: 0.9927 - relation_acc: 0.9930 - val_loss: 1.7579 - val_action_loss: 0.8219 - val_relation_loss: 0.9361 - val_action_acc: 0.8580 - val_relation_acc: 0.8397\n",
            "Epoch 9/10\n",
            "2603/2603 [==============================] - 15s 6ms/step - loss: 0.0407 - action_loss: 0.0205 - relation_loss: 0.0203 - action_acc: 0.9932 - relation_acc: 0.9938 - val_loss: 1.9233 - val_action_loss: 0.8826 - val_relation_loss: 1.0407 - val_action_acc: 0.8586 - val_relation_acc: 0.8379\n",
            "Epoch 10/10\n",
            "2603/2603 [==============================] - 15s 6ms/step - loss: 0.0331 - action_loss: 0.0173 - relation_loss: 0.0158 - action_acc: 0.9944 - relation_acc: 0.9951 - val_loss: 2.0980 - val_action_loss: 0.9823 - val_relation_loss: 1.1157 - val_action_acc: 0.8561 - val_relation_acc: 0.8348\n"
          ]
        }
      ]
    },
    {
      "cell_type": "code",
      "source": [
        "!python main.py plot --model ./models/a/model --output ./models/a"
      ],
      "metadata": {
        "colab": {
          "base_uri": "https://localhost:8080/"
        },
        "outputId": "b473b826-3098-487c-cfd3-abbf08857cd0",
        "id": "RaTEvA4C9DJt"
      },
      "execution_count": 5,
      "outputs": [
        {
          "output_type": "stream",
          "name": "stdout",
          "text": [
            "[*] Plot mode\n",
            "2022-12-15 12:23:24.126011: W tensorflow/core/common_runtime/gpu/gpu_bfc_allocator.cc:42] Overriding orig_value setting because the TF_FORCE_GPU_ALLOW_GROWTH environment variable is set. Original config value was 0.\n",
            "[*] Model loaded\n",
            "    Sequence length: 2\n",
            "    Embedding dimension: 128\n",
            "    Hidden layer dimension: 256\n",
            "[*] Model loaded from ./models/a/model\n"
          ]
        }
      ]
    },
    {
      "cell_type": "code",
      "source": [
        "!python main.py eval --input ./data/UD_English-ParTUT/ --output ./models/a --model ./models/a/model"
      ],
      "metadata": {
        "colab": {
          "base_uri": "https://localhost:8080/"
        },
        "outputId": "ed7a641e-198d-4c3b-ed6d-5c02051de7aa",
        "id": "KCxP82SH9DJu"
      },
      "execution_count": 6,
      "outputs": [
        {
          "output_type": "stream",
          "name": "stdout",
          "text": [
            "[*] Evaluation mode\n",
            "    Postprocess:  True\n",
            "    Multi-root:  True\n",
            "2022-12-15 12:23:29.858393: W tensorflow/core/common_runtime/gpu/gpu_bfc_allocator.cc:42] Overriding orig_value setting because the TF_FORCE_GPU_ALLOW_GROWTH environment variable is set. Original config value was 0.\n",
            "[*] Model loaded\n",
            "    Sequence length: 2\n",
            "    Embedding dimension: 128\n",
            "    Hidden layer dimension: 256\n",
            "[*] Model loaded from ./models/a/model\n",
            "[*] Predicting the test set...\n",
            "Time:  0:04:37.516073\n",
            "Total tokens:  3561\n",
            "Total sentences:  153\n",
            "Tokens per second:  12.831689211745223\n",
            "Sentences per second:  0.5513194185332826\n",
            "[*] Postprocessing the test set...\n",
            "[*] Writing the test set...\n"
          ]
        }
      ]
    },
    {
      "cell_type": "code",
      "source": [
        "!python ./eval/conll18_ud_eval.py ./models/a/test_clean.conllu ./models/a/test_pred.conllu --verbose"
      ],
      "metadata": {
        "colab": {
          "base_uri": "https://localhost:8080/"
        },
        "outputId": "d5a074b7-e476-482f-bf91-b32ea4178e34",
        "id": "zp5mbdL_9DJu"
      },
      "execution_count": 7,
      "outputs": [
        {
          "output_type": "stream",
          "name": "stdout",
          "text": [
            "Metric     | Precision |    Recall |  F1 Score | AligndAcc\n",
            "-----------+-----------+-----------+-----------+-----------\n",
            "Tokens     |    100.00 |    100.00 |    100.00 |\n",
            "Sentences  |    100.00 |    100.00 |    100.00 |\n",
            "Words      |    100.00 |    100.00 |    100.00 |\n",
            "UPOS       |    100.00 |    100.00 |    100.00 |    100.00\n",
            "XPOS       |      0.15 |      0.15 |      0.15 |      0.15\n",
            "UFeats     |     36.06 |     36.06 |     36.06 |     36.06\n",
            "AllTags    |      0.15 |      0.15 |      0.15 |      0.15\n",
            "Lemmas     |      0.00 |      0.00 |      0.00 |      0.00\n",
            "UAS        |     74.71 |     74.71 |     74.71 |     74.71\n",
            "LAS        |     65.90 |     65.90 |     65.90 |     65.90\n",
            "CLAS       |     53.52 |     52.50 |     53.00 |     52.50\n",
            "MLAS       |      7.56 |      7.41 |      7.48 |      7.41\n",
            "BLEX       |      0.00 |      0.00 |      0.00 |      0.00\n"
          ]
        }
      ]
    },
    {
      "cell_type": "markdown",
      "source": [
        "# Model: seql=2, hdim=192, edim=128\n"
      ],
      "metadata": {
        "id": "hh4f_dvuLiw8"
      }
    },
    {
      "cell_type": "code",
      "source": [
        "!mkdir ./models/d"
      ],
      "metadata": {
        "id": "f0PH3V8vLiw9"
      },
      "execution_count": 8,
      "outputs": []
    },
    {
      "cell_type": "code",
      "source": [
        "!python main.py train --input ./data/UD_English-ParTUT/ --output ./models/d --seq_l 2 --hidden_size 192 --embedding_size 128"
      ],
      "metadata": {
        "colab": {
          "base_uri": "https://localhost:8080/"
        },
        "outputId": "3cc1aec4-5082-4160-ca09-65a94598d108",
        "id": "CnwawmOYLiw9"
      },
      "execution_count": 9,
      "outputs": [
        {
          "output_type": "stream",
          "name": "stdout",
          "text": [
            "[*] Train mode\n",
            "[*] Building the model...\n",
            "[*] Compiling the model and starting train...\n",
            "2022-12-15 12:28:17.986145: W tensorflow/core/common_runtime/gpu/gpu_bfc_allocator.cc:42] Overriding orig_value setting because the TF_FORCE_GPU_ALLOW_GROWTH environment variable is set. Original config value was 0.\n",
            "*** VOCABULARY\n",
            "    words_vocab      = 6670\n",
            "    postags_vocab    = 20\n",
            "    relations_vocab  = 46\n",
            "*** PARSER MODEL\n",
            "    sequence_length  = 2\n",
            "    embeddings_dim   = 128\n",
            "    dense_dim        = 192\n",
            "*** COMPILATION\n",
            "    optimizer        = adam\n",
            "    loss_fucntion    = categorical_crossentropy\n",
            "    learning_rate    = 0.001\n",
            "    metrics          = ['acc']\n",
            "Epoch 1/10\n",
            "2603/2603 [==============================] - 16s 6ms/step - loss: 0.9215 - action_loss: 0.3763 - relation_loss: 0.5452 - action_acc: 0.8577 - relation_acc: 0.8339 - val_loss: 0.8361 - val_action_loss: 0.3644 - val_relation_loss: 0.4717 - val_action_acc: 0.8694 - val_relation_acc: 0.8455\n",
            "Epoch 2/10\n",
            "2603/2603 [==============================] - 15s 6ms/step - loss: 0.4533 - action_loss: 0.1968 - relation_loss: 0.2566 - action_acc: 0.9296 - relation_acc: 0.9176 - val_loss: 0.8989 - val_action_loss: 0.4110 - val_relation_loss: 0.4879 - val_action_acc: 0.8584 - val_relation_acc: 0.8479\n",
            "Epoch 3/10\n",
            "2603/2603 [==============================] - 15s 6ms/step - loss: 0.2675 - action_loss: 0.1192 - relation_loss: 0.1483 - action_acc: 0.9586 - relation_acc: 0.9532 - val_loss: 1.0221 - val_action_loss: 0.4712 - val_relation_loss: 0.5509 - val_action_acc: 0.8619 - val_relation_acc: 0.8461\n",
            "Epoch 4/10\n",
            "2603/2603 [==============================] - 15s 6ms/step - loss: 0.1655 - action_loss: 0.0775 - relation_loss: 0.0881 - action_acc: 0.9734 - relation_acc: 0.9712 - val_loss: 1.1778 - val_action_loss: 0.5431 - val_relation_loss: 0.6347 - val_action_acc: 0.8610 - val_relation_acc: 0.8459\n",
            "Epoch 5/10\n",
            "2603/2603 [==============================] - 16s 6ms/step - loss: 0.1129 - action_loss: 0.0546 - relation_loss: 0.0583 - action_acc: 0.9819 - relation_acc: 0.9809 - val_loss: 1.3360 - val_action_loss: 0.6254 - val_relation_loss: 0.7107 - val_action_acc: 0.8590 - val_relation_acc: 0.8461\n",
            "Epoch 6/10\n",
            "2603/2603 [==============================] - 15s 6ms/step - loss: 0.0818 - action_loss: 0.0409 - relation_loss: 0.0409 - action_acc: 0.9865 - relation_acc: 0.9863 - val_loss: 1.5151 - val_action_loss: 0.7097 - val_relation_loss: 0.8054 - val_action_acc: 0.8539 - val_relation_acc: 0.8405\n",
            "Epoch 7/10\n",
            "2603/2603 [==============================] - 15s 6ms/step - loss: 0.0596 - action_loss: 0.0304 - relation_loss: 0.0292 - action_acc: 0.9900 - relation_acc: 0.9908 - val_loss: 1.6015 - val_action_loss: 0.7412 - val_relation_loss: 0.8603 - val_action_acc: 0.8582 - val_relation_acc: 0.8438\n",
            "Epoch 8/10\n",
            "2603/2603 [==============================] - 15s 6ms/step - loss: 0.0498 - action_loss: 0.0260 - relation_loss: 0.0239 - action_acc: 0.9914 - relation_acc: 0.9921 - val_loss: 1.8138 - val_action_loss: 0.8277 - val_relation_loss: 0.9860 - val_action_acc: 0.8481 - val_relation_acc: 0.8323\n",
            "Epoch 9/10\n",
            "2603/2603 [==============================] - 15s 6ms/step - loss: 0.0422 - action_loss: 0.0225 - relation_loss: 0.0196 - action_acc: 0.9928 - relation_acc: 0.9936 - val_loss: 1.9347 - val_action_loss: 0.8931 - val_relation_loss: 1.0416 - val_action_acc: 0.8496 - val_relation_acc: 0.8375\n",
            "Epoch 10/10\n",
            "2603/2603 [==============================] - 15s 6ms/step - loss: 0.0355 - action_loss: 0.0187 - relation_loss: 0.0168 - action_acc: 0.9941 - relation_acc: 0.9950 - val_loss: 2.1048 - val_action_loss: 0.9504 - val_relation_loss: 1.1543 - val_action_acc: 0.8508 - val_relation_acc: 0.8368\n"
          ]
        }
      ]
    },
    {
      "cell_type": "code",
      "source": [
        "!python main.py plot --model ./models/d/model --output ./models/d"
      ],
      "metadata": {
        "colab": {
          "base_uri": "https://localhost:8080/"
        },
        "outputId": "8037bc0b-a5d2-4e4c-b607-9921fdc286cc",
        "id": "SmZzpM5BLiw-"
      },
      "execution_count": 10,
      "outputs": [
        {
          "output_type": "stream",
          "name": "stdout",
          "text": [
            "[*] Plot mode\n",
            "2022-12-15 12:31:47.587359: W tensorflow/core/common_runtime/gpu/gpu_bfc_allocator.cc:42] Overriding orig_value setting because the TF_FORCE_GPU_ALLOW_GROWTH environment variable is set. Original config value was 0.\n",
            "[*] Model loaded\n",
            "    Sequence length: 2\n",
            "    Embedding dimension: 128\n",
            "    Hidden layer dimension: 192\n",
            "[*] Model loaded from ./models/d/model\n"
          ]
        }
      ]
    },
    {
      "cell_type": "code",
      "source": [
        "!python main.py eval --input ./data/UD_English-ParTUT/ --output ./models/d --model ./models/d/model"
      ],
      "metadata": {
        "colab": {
          "base_uri": "https://localhost:8080/"
        },
        "outputId": "caf5aa15-e01b-457f-e973-ad2715d87d31",
        "id": "65ZR7PNrLiw_"
      },
      "execution_count": 11,
      "outputs": [
        {
          "output_type": "stream",
          "name": "stdout",
          "text": [
            "[*] Evaluation mode\n",
            "    Postprocess:  True\n",
            "    Multi-root:  True\n",
            "2022-12-15 12:31:52.990279: W tensorflow/core/common_runtime/gpu/gpu_bfc_allocator.cc:42] Overriding orig_value setting because the TF_FORCE_GPU_ALLOW_GROWTH environment variable is set. Original config value was 0.\n",
            "[*] Model loaded\n",
            "    Sequence length: 2\n",
            "    Embedding dimension: 128\n",
            "    Hidden layer dimension: 192\n",
            "[*] Model loaded from ./models/d/model\n",
            "[*] Predicting the test set...\n",
            "Time:  0:04:38.657706\n",
            "Total tokens:  3561\n",
            "Total sentences:  153\n",
            "Tokens per second:  12.779119052964571\n",
            "Sentences per second:  0.5490607175241727\n",
            "[*] Postprocessing the test set...\n",
            "[*] Writing the test set...\n"
          ]
        }
      ]
    },
    {
      "cell_type": "code",
      "source": [
        "!python ./eval/conll18_ud_eval.py ./models/d/test_clean.conllu ./models/d/test_pred.conllu --verbose"
      ],
      "metadata": {
        "colab": {
          "base_uri": "https://localhost:8080/"
        },
        "outputId": "1f2480fd-52a0-4e7c-c46f-a75b245771b7",
        "id": "IqiQ-g0MLiw_"
      },
      "execution_count": 12,
      "outputs": [
        {
          "output_type": "stream",
          "name": "stdout",
          "text": [
            "Metric     | Precision |    Recall |  F1 Score | AligndAcc\n",
            "-----------+-----------+-----------+-----------+-----------\n",
            "Tokens     |    100.00 |    100.00 |    100.00 |\n",
            "Sentences  |    100.00 |    100.00 |    100.00 |\n",
            "Words      |    100.00 |    100.00 |    100.00 |\n",
            "UPOS       |    100.00 |    100.00 |    100.00 |    100.00\n",
            "XPOS       |      0.15 |      0.15 |      0.15 |      0.15\n",
            "UFeats     |     36.06 |     36.06 |     36.06 |     36.06\n",
            "AllTags    |      0.15 |      0.15 |      0.15 |      0.15\n",
            "Lemmas     |      0.00 |      0.00 |      0.00 |      0.00\n",
            "UAS        |     74.77 |     74.77 |     74.77 |     74.77\n",
            "LAS        |     65.93 |     65.93 |     65.93 |     65.93\n",
            "CLAS       |     53.01 |     52.89 |     52.95 |     52.89\n",
            "MLAS       |      7.15 |      7.13 |      7.14 |      7.13\n",
            "BLEX       |      0.00 |      0.00 |      0.00 |      0.00\n"
          ]
        }
      ]
    },
    {
      "cell_type": "markdown",
      "source": [
        "# Model: seql=2, hdim=128, edim=128\n"
      ],
      "metadata": {
        "id": "hLt09AgDAWdl"
      }
    },
    {
      "cell_type": "code",
      "source": [
        "!mkdir ./models/b"
      ],
      "metadata": {
        "id": "WirYdADsAYLJ"
      },
      "execution_count": 13,
      "outputs": []
    },
    {
      "cell_type": "code",
      "source": [
        "!python main.py train --input ./data/UD_English-ParTUT/ --output ./models/b --seq_l 2 --hidden_size 128 --embedding_size 128"
      ],
      "metadata": {
        "colab": {
          "base_uri": "https://localhost:8080/"
        },
        "id": "byZgvUucAa8x",
        "outputId": "712aed13-2bf1-4317-b5c4-e4ea84a6d730"
      },
      "execution_count": 14,
      "outputs": [
        {
          "output_type": "stream",
          "name": "stdout",
          "text": [
            "[*] Train mode\n",
            "[*] Building the model...\n",
            "[*] Compiling the model and starting train...\n",
            "2022-12-15 12:36:42.163313: W tensorflow/core/common_runtime/gpu/gpu_bfc_allocator.cc:42] Overriding orig_value setting because the TF_FORCE_GPU_ALLOW_GROWTH environment variable is set. Original config value was 0.\n",
            "*** VOCABULARY\n",
            "    words_vocab      = 6670\n",
            "    postags_vocab    = 20\n",
            "    relations_vocab  = 46\n",
            "*** PARSER MODEL\n",
            "    sequence_length  = 2\n",
            "    embeddings_dim   = 128\n",
            "    dense_dim        = 128\n",
            "*** COMPILATION\n",
            "    optimizer        = adam\n",
            "    loss_fucntion    = categorical_crossentropy\n",
            "    learning_rate    = 0.001\n",
            "    metrics          = ['acc']\n",
            "Epoch 1/10\n",
            "2603/2603 [==============================] - 16s 6ms/step - loss: 0.9505 - action_loss: 0.3816 - relation_loss: 0.5689 - action_acc: 0.8550 - relation_acc: 0.8298 - val_loss: 0.8494 - val_action_loss: 0.3722 - val_relation_loss: 0.4772 - val_action_acc: 0.8676 - val_relation_acc: 0.8440\n",
            "Epoch 2/10\n",
            "2603/2603 [==============================] - 15s 6ms/step - loss: 0.4681 - action_loss: 0.2010 - relation_loss: 0.2671 - action_acc: 0.9283 - relation_acc: 0.9146 - val_loss: 0.8769 - val_action_loss: 0.3993 - val_relation_loss: 0.4776 - val_action_acc: 0.8629 - val_relation_acc: 0.8461\n",
            "Epoch 3/10\n",
            "2603/2603 [==============================] - 15s 6ms/step - loss: 0.2828 - action_loss: 0.1251 - relation_loss: 0.1577 - action_acc: 0.9566 - relation_acc: 0.9503 - val_loss: 0.9711 - val_action_loss: 0.4478 - val_relation_loss: 0.5233 - val_action_acc: 0.8651 - val_relation_acc: 0.8461\n",
            "Epoch 4/10\n",
            "2603/2603 [==============================] - 15s 6ms/step - loss: 0.1821 - action_loss: 0.0839 - relation_loss: 0.0982 - action_acc: 0.9706 - relation_acc: 0.9685 - val_loss: 1.1545 - val_action_loss: 0.5331 - val_relation_loss: 0.6214 - val_action_acc: 0.8614 - val_relation_acc: 0.8412\n",
            "Epoch 5/10\n",
            "2603/2603 [==============================] - 15s 6ms/step - loss: 0.1212 - action_loss: 0.0574 - relation_loss: 0.0638 - action_acc: 0.9801 - relation_acc: 0.9795 - val_loss: 1.3032 - val_action_loss: 0.5995 - val_relation_loss: 0.7037 - val_action_acc: 0.8594 - val_relation_acc: 0.8381\n",
            "Epoch 6/10\n",
            "2603/2603 [==============================] - 15s 6ms/step - loss: 0.0886 - action_loss: 0.0431 - relation_loss: 0.0456 - action_acc: 0.9856 - relation_acc: 0.9856 - val_loss: 1.4555 - val_action_loss: 0.6762 - val_relation_loss: 0.7793 - val_action_acc: 0.8610 - val_relation_acc: 0.8373\n",
            "Epoch 7/10\n",
            "2603/2603 [==============================] - 15s 6ms/step - loss: 0.0655 - action_loss: 0.0324 - relation_loss: 0.0331 - action_acc: 0.9892 - relation_acc: 0.9894 - val_loss: 1.6332 - val_action_loss: 0.7515 - val_relation_loss: 0.8817 - val_action_acc: 0.8533 - val_relation_acc: 0.8342\n",
            "Epoch 8/10\n",
            "2603/2603 [==============================] - 15s 6ms/step - loss: 0.0521 - action_loss: 0.0266 - relation_loss: 0.0256 - action_acc: 0.9911 - relation_acc: 0.9918 - val_loss: 1.7276 - val_action_loss: 0.8163 - val_relation_loss: 0.9113 - val_action_acc: 0.8461 - val_relation_acc: 0.8344\n",
            "Epoch 9/10\n",
            "2603/2603 [==============================] - 15s 6ms/step - loss: 0.0444 - action_loss: 0.0226 - relation_loss: 0.0218 - action_acc: 0.9927 - relation_acc: 0.9930 - val_loss: 1.8961 - val_action_loss: 0.8658 - val_relation_loss: 1.0304 - val_action_acc: 0.8549 - val_relation_acc: 0.8309\n",
            "Epoch 10/10\n",
            "2603/2603 [==============================] - 15s 6ms/step - loss: 0.0375 - action_loss: 0.0196 - relation_loss: 0.0180 - action_acc: 0.9940 - relation_acc: 0.9947 - val_loss: 2.0062 - val_action_loss: 0.9141 - val_relation_loss: 1.0921 - val_action_acc: 0.8561 - val_relation_acc: 0.8348\n"
          ]
        }
      ]
    },
    {
      "cell_type": "code",
      "source": [
        "!python main.py plot --model ./models/b/model --output ./models/b"
      ],
      "metadata": {
        "colab": {
          "base_uri": "https://localhost:8080/"
        },
        "id": "7U-Z3zxJBBob",
        "outputId": "9feedfd6-45b2-4097-ae3d-356dcf393238"
      },
      "execution_count": 15,
      "outputs": [
        {
          "output_type": "stream",
          "name": "stdout",
          "text": [
            "[*] Plot mode\n",
            "2022-12-15 12:40:11.672026: W tensorflow/core/common_runtime/gpu/gpu_bfc_allocator.cc:42] Overriding orig_value setting because the TF_FORCE_GPU_ALLOW_GROWTH environment variable is set. Original config value was 0.\n",
            "[*] Model loaded\n",
            "    Sequence length: 2\n",
            "    Embedding dimension: 128\n",
            "    Hidden layer dimension: 128\n",
            "[*] Model loaded from ./models/b/model\n"
          ]
        }
      ]
    },
    {
      "cell_type": "code",
      "source": [
        "!python main.py eval --input ./data/UD_English-ParTUT/ --output ./models/b --model ./models/b/model"
      ],
      "metadata": {
        "colab": {
          "base_uri": "https://localhost:8080/"
        },
        "id": "7WMskhNbA28R",
        "outputId": "140d3864-a33b-45fb-b510-8e4a58a3eabc"
      },
      "execution_count": 16,
      "outputs": [
        {
          "output_type": "stream",
          "name": "stdout",
          "text": [
            "[*] Evaluation mode\n",
            "    Postprocess:  True\n",
            "    Multi-root:  True\n",
            "2022-12-15 12:40:17.200279: W tensorflow/core/common_runtime/gpu/gpu_bfc_allocator.cc:42] Overriding orig_value setting because the TF_FORCE_GPU_ALLOW_GROWTH environment variable is set. Original config value was 0.\n",
            "[*] Model loaded\n",
            "    Sequence length: 2\n",
            "    Embedding dimension: 128\n",
            "    Hidden layer dimension: 128\n",
            "[*] Model loaded from ./models/b/model\n",
            "[*] Predicting the test set...\n",
            "Time:  0:04:43.481233\n",
            "Total tokens:  3561\n",
            "Total sentences:  153\n",
            "Tokens per second:  12.561678112921149\n",
            "Sentences per second:  0.5397182676992237\n",
            "[*] Postprocessing the test set...\n",
            "[*] Writing the test set...\n"
          ]
        }
      ]
    },
    {
      "cell_type": "code",
      "source": [
        "!python ./eval/conll18_ud_eval.py ./models/b/test_clean.conllu ./models/b/test_pred.conllu --verbose"
      ],
      "metadata": {
        "colab": {
          "base_uri": "https://localhost:8080/"
        },
        "id": "gZ_5u9iNA7Wn",
        "outputId": "092ef2c1-5484-4895-cc1c-e1f3b9520797"
      },
      "execution_count": 17,
      "outputs": [
        {
          "output_type": "stream",
          "name": "stdout",
          "text": [
            "Metric     | Precision |    Recall |  F1 Score | AligndAcc\n",
            "-----------+-----------+-----------+-----------+-----------\n",
            "Tokens     |    100.00 |    100.00 |    100.00 |\n",
            "Sentences  |    100.00 |    100.00 |    100.00 |\n",
            "Words      |    100.00 |    100.00 |    100.00 |\n",
            "UPOS       |    100.00 |    100.00 |    100.00 |    100.00\n",
            "XPOS       |      0.15 |      0.15 |      0.15 |      0.15\n",
            "UFeats     |     36.06 |     36.06 |     36.06 |     36.06\n",
            "AllTags    |      0.15 |      0.15 |      0.15 |      0.15\n",
            "Lemmas     |      0.00 |      0.00 |      0.00 |      0.00\n",
            "UAS        |     74.91 |     74.91 |     74.91 |     74.91\n",
            "LAS        |     66.64 |     66.64 |     66.64 |     66.64\n",
            "CLAS       |     54.67 |     53.90 |     54.28 |     53.90\n",
            "MLAS       |      7.86 |      7.75 |      7.80 |      7.75\n",
            "BLEX       |      0.00 |      0.00 |      0.00 |      0.00\n"
          ]
        }
      ]
    },
    {
      "cell_type": "markdown",
      "source": [
        "# Model: seql=2, hdim=64, edim=128\n"
      ],
      "metadata": {
        "id": "Uvl-KPTHCTu9"
      }
    },
    {
      "cell_type": "code",
      "source": [
        "!mkdir ./models/c"
      ],
      "metadata": {
        "id": "0YyZbUY3CnV4"
      },
      "execution_count": 18,
      "outputs": []
    },
    {
      "cell_type": "code",
      "source": [
        "!python main.py train --input ./data/UD_English-ParTUT/ --output ./models/c --seq_l 2 --hidden_size 64 --embedding_size 128"
      ],
      "metadata": {
        "colab": {
          "base_uri": "https://localhost:8080/"
        },
        "id": "q_VgPP_3CpWF",
        "outputId": "29bd6146-33cc-4e83-a353-aed663abad37"
      },
      "execution_count": 19,
      "outputs": [
        {
          "output_type": "stream",
          "name": "stdout",
          "text": [
            "[*] Train mode\n",
            "[*] Building the model...\n",
            "[*] Compiling the model and starting train...\n",
            "2022-12-15 12:45:11.219674: W tensorflow/core/common_runtime/gpu/gpu_bfc_allocator.cc:42] Overriding orig_value setting because the TF_FORCE_GPU_ALLOW_GROWTH environment variable is set. Original config value was 0.\n",
            "*** VOCABULARY\n",
            "    words_vocab      = 6670\n",
            "    postags_vocab    = 20\n",
            "    relations_vocab  = 46\n",
            "*** PARSER MODEL\n",
            "    sequence_length  = 2\n",
            "    embeddings_dim   = 128\n",
            "    dense_dim        = 64\n",
            "*** COMPILATION\n",
            "    optimizer        = adam\n",
            "    loss_fucntion    = categorical_crossentropy\n",
            "    learning_rate    = 0.001\n",
            "    metrics          = ['acc']\n",
            "Epoch 1/10\n",
            "2603/2603 [==============================] - 17s 6ms/step - loss: 1.0134 - action_loss: 0.3998 - relation_loss: 0.6136 - action_acc: 0.8473 - relation_acc: 0.8215 - val_loss: 0.8712 - val_action_loss: 0.3784 - val_relation_loss: 0.4928 - val_action_acc: 0.8649 - val_relation_acc: 0.8409\n",
            "Epoch 2/10\n",
            "2603/2603 [==============================] - 15s 6ms/step - loss: 0.5108 - action_loss: 0.2208 - relation_loss: 0.2900 - action_acc: 0.9210 - relation_acc: 0.9082 - val_loss: 0.8863 - val_action_loss: 0.4020 - val_relation_loss: 0.4844 - val_action_acc: 0.8643 - val_relation_acc: 0.8465\n",
            "Epoch 3/10\n",
            "2603/2603 [==============================] - 15s 6ms/step - loss: 0.3256 - action_loss: 0.1442 - relation_loss: 0.1814 - action_acc: 0.9494 - relation_acc: 0.9443 - val_loss: 1.0130 - val_action_loss: 0.4686 - val_relation_loss: 0.5444 - val_action_acc: 0.8557 - val_relation_acc: 0.8409\n",
            "Epoch 4/10\n",
            "2603/2603 [==============================] - 16s 6ms/step - loss: 0.2201 - action_loss: 0.1010 - relation_loss: 0.1192 - action_acc: 0.9661 - relation_acc: 0.9629 - val_loss: 1.1126 - val_action_loss: 0.5139 - val_relation_loss: 0.5987 - val_action_acc: 0.8516 - val_relation_acc: 0.8383\n",
            "Epoch 5/10\n",
            "2603/2603 [==============================] - 15s 6ms/step - loss: 0.1542 - action_loss: 0.0734 - relation_loss: 0.0808 - action_acc: 0.9753 - relation_acc: 0.9748 - val_loss: 1.2329 - val_action_loss: 0.5803 - val_relation_loss: 0.6527 - val_action_acc: 0.8559 - val_relation_acc: 0.8412\n",
            "Epoch 6/10\n",
            "2603/2603 [==============================] - 15s 6ms/step - loss: 0.1110 - action_loss: 0.0541 - relation_loss: 0.0569 - action_acc: 0.9822 - relation_acc: 0.9821 - val_loss: 1.4985 - val_action_loss: 0.7039 - val_relation_loss: 0.7946 - val_action_acc: 0.8434 - val_relation_acc: 0.8268\n",
            "Epoch 7/10\n",
            "2603/2603 [==============================] - 15s 6ms/step - loss: 0.0819 - action_loss: 0.0410 - relation_loss: 0.0410 - action_acc: 0.9868 - relation_acc: 0.9869 - val_loss: 1.5469 - val_action_loss: 0.7257 - val_relation_loss: 0.8212 - val_action_acc: 0.8516 - val_relation_acc: 0.8391\n",
            "Epoch 8/10\n",
            "2603/2603 [==============================] - 15s 6ms/step - loss: 0.0635 - action_loss: 0.0318 - relation_loss: 0.0317 - action_acc: 0.9895 - relation_acc: 0.9900 - val_loss: 1.7208 - val_action_loss: 0.7994 - val_relation_loss: 0.9214 - val_action_acc: 0.8469 - val_relation_acc: 0.8307\n",
            "Epoch 9/10\n",
            "2603/2603 [==============================] - 15s 6ms/step - loss: 0.0517 - action_loss: 0.0265 - relation_loss: 0.0253 - action_acc: 0.9916 - relation_acc: 0.9921 - val_loss: 1.8215 - val_action_loss: 0.8525 - val_relation_loss: 0.9690 - val_action_acc: 0.8491 - val_relation_acc: 0.8323\n",
            "Epoch 10/10\n",
            "2603/2603 [==============================] - 15s 6ms/step - loss: 0.0426 - action_loss: 0.0220 - relation_loss: 0.0206 - action_acc: 0.9929 - relation_acc: 0.9933 - val_loss: 1.9463 - val_action_loss: 0.9009 - val_relation_loss: 1.0454 - val_action_acc: 0.8514 - val_relation_acc: 0.8338\n"
          ]
        }
      ]
    },
    {
      "cell_type": "code",
      "source": [
        "!python main.py plot --model ./models/c/model --output ./models/c"
      ],
      "metadata": {
        "colab": {
          "base_uri": "https://localhost:8080/"
        },
        "id": "75qHILE_Ct74",
        "outputId": "3f607dc8-9f5b-4559-8e2a-dbdea629590d"
      },
      "execution_count": 20,
      "outputs": [
        {
          "output_type": "stream",
          "name": "stdout",
          "text": [
            "[*] Plot mode\n",
            "2022-12-15 12:48:40.782550: W tensorflow/core/common_runtime/gpu/gpu_bfc_allocator.cc:42] Overriding orig_value setting because the TF_FORCE_GPU_ALLOW_GROWTH environment variable is set. Original config value was 0.\n",
            "[*] Model loaded\n",
            "    Sequence length: 2\n",
            "    Embedding dimension: 128\n",
            "    Hidden layer dimension: 64\n",
            "[*] Model loaded from ./models/c/model\n"
          ]
        }
      ]
    },
    {
      "cell_type": "code",
      "source": [
        "!python main.py eval --input ./data/UD_English-ParTUT/ --output ./models/c --model ./models/c/model"
      ],
      "metadata": {
        "colab": {
          "base_uri": "https://localhost:8080/"
        },
        "id": "t_YPGt7aCwqG",
        "outputId": "1462951b-e2af-4822-8eb0-bcdf6749231c"
      },
      "execution_count": 21,
      "outputs": [
        {
          "output_type": "stream",
          "name": "stdout",
          "text": [
            "[*] Evaluation mode\n",
            "    Postprocess:  True\n",
            "    Multi-root:  True\n",
            "2022-12-15 12:48:46.292374: W tensorflow/core/common_runtime/gpu/gpu_bfc_allocator.cc:42] Overriding orig_value setting because the TF_FORCE_GPU_ALLOW_GROWTH environment variable is set. Original config value was 0.\n",
            "[*] Model loaded\n",
            "    Sequence length: 2\n",
            "    Embedding dimension: 128\n",
            "    Hidden layer dimension: 64\n",
            "[*] Model loaded from ./models/c/model\n",
            "[*] Predicting the test set...\n",
            "Time:  0:04:37.742921\n",
            "Total tokens:  3561\n",
            "Total sentences:  153\n",
            "Tokens per second:  12.821208861701285\n",
            "Sentences per second:  0.5508691254816895\n",
            "[*] Postprocessing the test set...\n",
            "[*] Writing the test set...\n"
          ]
        }
      ]
    },
    {
      "cell_type": "code",
      "source": [
        "!python ./eval/conll18_ud_eval.py ./models/c/test_clean.conllu ./models/c/test_pred.conllu --verbose"
      ],
      "metadata": {
        "colab": {
          "base_uri": "https://localhost:8080/"
        },
        "id": "sCYayC9hC18Z",
        "outputId": "ce730518-38b2-49de-e376-8ed5c6573c65"
      },
      "execution_count": 22,
      "outputs": [
        {
          "output_type": "stream",
          "name": "stdout",
          "text": [
            "Metric     | Precision |    Recall |  F1 Score | AligndAcc\n",
            "-----------+-----------+-----------+-----------+-----------\n",
            "Tokens     |    100.00 |    100.00 |    100.00 |\n",
            "Sentences  |    100.00 |    100.00 |    100.00 |\n",
            "Words      |    100.00 |    100.00 |    100.00 |\n",
            "UPOS       |    100.00 |    100.00 |    100.00 |    100.00\n",
            "XPOS       |      0.15 |      0.15 |      0.15 |      0.15\n",
            "UFeats     |     36.06 |     36.06 |     36.06 |     36.06\n",
            "AllTags    |      0.15 |      0.15 |      0.15 |      0.15\n",
            "Lemmas     |      0.00 |      0.00 |      0.00 |      0.00\n",
            "UAS        |     74.50 |     74.50 |     74.50 |     74.50\n",
            "LAS        |     65.99 |     65.99 |     65.99 |     65.99\n",
            "CLAS       |     53.96 |     52.39 |     53.16 |     52.39\n",
            "MLAS       |      8.21 |      7.97 |      8.09 |      7.97\n",
            "BLEX       |      0.00 |      0.00 |      0.00 |      0.00\n"
          ]
        }
      ]
    },
    {
      "cell_type": "markdown",
      "source": [
        "# Model: seql=2, hdim=0, edim=128\n"
      ],
      "metadata": {
        "id": "EQBCyHEwUoPM"
      }
    },
    {
      "cell_type": "code",
      "source": [
        "!mkdir ./models/s"
      ],
      "metadata": {
        "id": "EBG3vRDqUoPN"
      },
      "execution_count": 23,
      "outputs": []
    },
    {
      "cell_type": "code",
      "source": [
        "!python main.py train --input ./data/UD_English-ParTUT/ --output ./models/s --seq_l 2 --hidden_size 0 --embedding_size 128"
      ],
      "metadata": {
        "colab": {
          "base_uri": "https://localhost:8080/"
        },
        "outputId": "a2a8e816-2e41-478b-a90a-ade06c552e7c",
        "id": "lZA5A6eeUoPO"
      },
      "execution_count": 24,
      "outputs": [
        {
          "output_type": "stream",
          "name": "stdout",
          "text": [
            "[*] Train mode\n",
            "[*] Building the model...\n",
            "[*] Compiling the model and starting train...\n",
            "2022-12-15 12:53:34.765271: W tensorflow/core/common_runtime/gpu/gpu_bfc_allocator.cc:42] Overriding orig_value setting because the TF_FORCE_GPU_ALLOW_GROWTH environment variable is set. Original config value was 0.\n",
            "*** VOCABULARY\n",
            "    words_vocab      = 6670\n",
            "    postags_vocab    = 20\n",
            "    relations_vocab  = 46\n",
            "*** PARSER MODEL\n",
            "    sequence_length  = 2\n",
            "    embeddings_dim   = 128\n",
            "    dense_dim        = 0\n",
            "*** COMPILATION\n",
            "    optimizer        = adam\n",
            "    loss_fucntion    = categorical_crossentropy\n",
            "    learning_rate    = 0.001\n",
            "    metrics          = ['acc']\n",
            "Epoch 1/10\n",
            "2603/2603 [==============================] - 16s 5ms/step - loss: 1.1218 - action_loss: 0.4624 - relation_loss: 0.6594 - action_acc: 0.8273 - relation_acc: 0.8147 - val_loss: 0.9577 - val_action_loss: 0.4389 - val_relation_loss: 0.5188 - val_action_acc: 0.8383 - val_relation_acc: 0.8344\n",
            "Epoch 2/10\n",
            "2603/2603 [==============================] - 14s 5ms/step - loss: 0.6602 - action_loss: 0.3166 - relation_loss: 0.3436 - action_acc: 0.8856 - relation_acc: 0.8941 - val_loss: 1.0009 - val_action_loss: 0.4791 - val_relation_loss: 0.5218 - val_action_acc: 0.8348 - val_relation_acc: 0.8348\n",
            "Epoch 3/10\n",
            "2603/2603 [==============================] - 14s 5ms/step - loss: 0.4926 - action_loss: 0.2593 - relation_loss: 0.2334 - action_acc: 0.9089 - relation_acc: 0.9305 - val_loss: 1.0826 - val_action_loss: 0.5238 - val_relation_loss: 0.5589 - val_action_acc: 0.8278 - val_relation_acc: 0.8307\n",
            "Epoch 4/10\n",
            "2603/2603 [==============================] - 14s 5ms/step - loss: 0.3957 - action_loss: 0.2270 - relation_loss: 0.1687 - action_acc: 0.9212 - relation_acc: 0.9498 - val_loss: 1.1556 - val_action_loss: 0.5608 - val_relation_loss: 0.5948 - val_action_acc: 0.8246 - val_relation_acc: 0.8299\n",
            "Epoch 5/10\n",
            "2603/2603 [==============================] - 14s 5ms/step - loss: 0.3348 - action_loss: 0.2067 - relation_loss: 0.1281 - action_acc: 0.9282 - relation_acc: 0.9622 - val_loss: 1.2441 - val_action_loss: 0.5999 - val_relation_loss: 0.6442 - val_action_acc: 0.8217 - val_relation_acc: 0.8225\n",
            "Epoch 6/10\n",
            "2603/2603 [==============================] - 14s 5ms/step - loss: 0.2932 - action_loss: 0.1923 - relation_loss: 0.1008 - action_acc: 0.9335 - relation_acc: 0.9696 - val_loss: 1.3502 - val_action_loss: 0.6452 - val_relation_loss: 0.7050 - val_action_acc: 0.8205 - val_relation_acc: 0.8209\n",
            "Epoch 7/10\n",
            "2603/2603 [==============================] - 14s 5ms/step - loss: 0.2642 - action_loss: 0.1824 - relation_loss: 0.0818 - action_acc: 0.9373 - relation_acc: 0.9760 - val_loss: 1.4429 - val_action_loss: 0.6835 - val_relation_loss: 0.7595 - val_action_acc: 0.8104 - val_relation_acc: 0.8184\n",
            "Epoch 8/10\n",
            "2603/2603 [==============================] - 14s 5ms/step - loss: 0.2422 - action_loss: 0.1731 - relation_loss: 0.0691 - action_acc: 0.9412 - relation_acc: 0.9794 - val_loss: 1.5028 - val_action_loss: 0.7092 - val_relation_loss: 0.7936 - val_action_acc: 0.8127 - val_relation_acc: 0.8174\n",
            "Epoch 9/10\n",
            "2603/2603 [==============================] - 14s 5ms/step - loss: 0.2275 - action_loss: 0.1677 - relation_loss: 0.0597 - action_acc: 0.9427 - relation_acc: 0.9821 - val_loss: 1.6147 - val_action_loss: 0.7584 - val_relation_loss: 0.8562 - val_action_acc: 0.8047 - val_relation_acc: 0.8143\n",
            "Epoch 10/10\n",
            "2603/2603 [==============================] - 14s 5ms/step - loss: 0.2156 - action_loss: 0.1626 - relation_loss: 0.0531 - action_acc: 0.9447 - relation_acc: 0.9842 - val_loss: 1.6810 - val_action_loss: 0.7725 - val_relation_loss: 0.9086 - val_action_acc: 0.8082 - val_relation_acc: 0.8057\n"
          ]
        }
      ]
    },
    {
      "cell_type": "code",
      "source": [
        "!python main.py plot --model ./models/s/model --output ./models/s"
      ],
      "metadata": {
        "colab": {
          "base_uri": "https://localhost:8080/"
        },
        "outputId": "17c15f99-55b3-4c37-f760-f38fdfe05580",
        "id": "qiCJAb_iUoPO"
      },
      "execution_count": 25,
      "outputs": [
        {
          "output_type": "stream",
          "name": "stdout",
          "text": [
            "[*] Plot mode\n",
            "2022-12-15 12:56:04.073010: W tensorflow/core/common_runtime/gpu/gpu_bfc_allocator.cc:42] Overriding orig_value setting because the TF_FORCE_GPU_ALLOW_GROWTH environment variable is set. Original config value was 0.\n",
            "[*] Model loaded\n",
            "    Sequence length: 2\n",
            "    Embedding dimension: 128\n",
            "    Hidden layer dimension: None\n",
            "[*] Model loaded from ./models/s/model\n"
          ]
        }
      ]
    },
    {
      "cell_type": "code",
      "source": [
        "!python main.py eval --input ./data/UD_English-ParTUT/ --output ./models/s --model ./models/s/model"
      ],
      "metadata": {
        "colab": {
          "base_uri": "https://localhost:8080/"
        },
        "outputId": "54309976-8da4-4b12-9c95-7ba3ed291508",
        "id": "rCRs94uoUoPO"
      },
      "execution_count": 26,
      "outputs": [
        {
          "output_type": "stream",
          "name": "stdout",
          "text": [
            "[*] Evaluation mode\n",
            "    Postprocess:  True\n",
            "    Multi-root:  True\n",
            "2022-12-15 12:56:09.387071: W tensorflow/core/common_runtime/gpu/gpu_bfc_allocator.cc:42] Overriding orig_value setting because the TF_FORCE_GPU_ALLOW_GROWTH environment variable is set. Original config value was 0.\n",
            "[*] Model loaded\n",
            "    Sequence length: 2\n",
            "    Embedding dimension: 128\n",
            "    Hidden layer dimension: None\n",
            "[*] Model loaded from ./models/s/model\n",
            "[*] Predicting the test set...\n",
            "Time:  0:04:31.829031\n",
            "Total tokens:  3561\n",
            "Total sentences:  153\n",
            "Tokens per second:  13.100146025241875\n",
            "Sentences per second:  0.562853788784613\n",
            "[*] Postprocessing the test set...\n",
            "[*] Writing the test set...\n"
          ]
        }
      ]
    },
    {
      "cell_type": "code",
      "source": [
        "!python ./eval/conll18_ud_eval.py ./models/s/test_clean.conllu ./models/s/test_pred.conllu --verbose"
      ],
      "metadata": {
        "colab": {
          "base_uri": "https://localhost:8080/"
        },
        "outputId": "841ec7a5-381d-4b71-908c-ada33c7aa5bc",
        "id": "2-1Rl_t_UoPP"
      },
      "execution_count": 27,
      "outputs": [
        {
          "output_type": "stream",
          "name": "stdout",
          "text": [
            "Metric     | Precision |    Recall |  F1 Score | AligndAcc\n",
            "-----------+-----------+-----------+-----------+-----------\n",
            "Tokens     |    100.00 |    100.00 |    100.00 |\n",
            "Sentences  |    100.00 |    100.00 |    100.00 |\n",
            "Words      |    100.00 |    100.00 |    100.00 |\n",
            "UPOS       |    100.00 |    100.00 |    100.00 |    100.00\n",
            "XPOS       |      0.15 |      0.15 |      0.15 |      0.15\n",
            "UFeats     |     36.06 |     36.06 |     36.06 |     36.06\n",
            "AllTags    |      0.15 |      0.15 |      0.15 |      0.15\n",
            "Lemmas     |      0.00 |      0.00 |      0.00 |      0.00\n",
            "UAS        |     66.96 |     66.96 |     66.96 |     66.96\n",
            "LAS        |     57.86 |     57.86 |     57.86 |     57.86\n",
            "CLAS       |     48.76 |     44.19 |     46.36 |     44.19\n",
            "MLAS       |      7.25 |      6.57 |      6.89 |      6.57\n",
            "BLEX       |      0.00 |      0.00 |      0.00 |      0.00\n"
          ]
        }
      ]
    }
  ]
}