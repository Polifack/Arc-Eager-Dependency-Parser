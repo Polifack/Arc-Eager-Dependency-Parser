{
  "nbformat": 4,
  "nbformat_minor": 0,
  "metadata": {
    "colab": {
      "provenance": [],
      "collapsed_sections": [
        "56NzBEAS9DJq",
        "hh4f_dvuLiw8",
        "hLt09AgDAWdl",
        "Uvl-KPTHCTu9",
        "drpMQ6y_Rpbd"
      ]
    },
    "kernelspec": {
      "name": "python3",
      "display_name": "Python 3"
    },
    "language_info": {
      "name": "python"
    },
    "accelerator": "GPU",
    "gpuClass": "standard"
  },
  "cells": [
    {
      "cell_type": "code",
      "source": [
        "!git clone https://github.com/Polifack/Arc-Eager-Dependency-Parser.git\n",
        "%cd Arc-Eager-Dependency-Parser/\n",
        "!git pull\n",
        "!mkdir ./models\n",
        "!ls"
      ],
      "metadata": {
        "colab": {
          "base_uri": "https://localhost:8080/"
        },
        "id": "T-wIovlOgQMH",
        "outputId": "44f10995-376b-4ffa-db44-0b5e8e3456f3"
      },
      "execution_count": null,
      "outputs": [
        {
          "output_type": "stream",
          "name": "stdout",
          "text": [
            "Cloning into 'Arc-Eager-Dependency-Parser'...\n",
            "remote: Enumerating objects: 119, done.\u001b[K\n",
            "remote: Counting objects: 100% (119/119), done.\u001b[K\n",
            "remote: Compressing objects: 100% (80/80), done.\u001b[K\n",
            "remote: Total 119 (delta 51), reused 100 (delta 32), pack-reused 0\u001b[K\n",
            "Receiving objects: 100% (119/119), 3.57 MiB | 10.53 MiB/s, done.\n",
            "Resolving deltas: 100% (51/51), done.\n",
            "/content/Arc-Eager-Dependency-Parser\n",
            "Already up to date.\n",
            "data  eval  install.sh\tLICENSE  main.py  models  README.MD  src\n"
          ]
        }
      ]
    },
    {
      "cell_type": "code",
      "source": [
        "!git pull"
      ],
      "metadata": {
        "colab": {
          "base_uri": "https://localhost:8080/"
        },
        "id": "UdkWmC5OUksC",
        "outputId": "c743ccef-4449-4633-8d1c-bf5ed620f8b7"
      },
      "execution_count": null,
      "outputs": [
        {
          "output_type": "stream",
          "name": "stdout",
          "text": [
            "Already up to date.\n"
          ]
        }
      ]
    },
    {
      "cell_type": "markdown",
      "source": [
        "# Model: seql=3, hdim=256, edim=128\n"
      ],
      "metadata": {
        "id": "56NzBEAS9DJq"
      }
    },
    {
      "cell_type": "code",
      "source": [
        "!mkdir ./models/a"
      ],
      "metadata": {
        "id": "j3vKA7ZU9DJt"
      },
      "execution_count": null,
      "outputs": []
    },
    {
      "cell_type": "code",
      "source": [
        "!python main.py train --input ./data/UD_English-ParTUT/ --output ./models/a --seq_l 3 --hidden_size 256 --embedding_size 128"
      ],
      "metadata": {
        "colab": {
          "base_uri": "https://localhost:8080/"
        },
        "outputId": "823aa193-0cea-492c-9fa0-013abaed85de",
        "id": "dVpe7mOz9DJt"
      },
      "execution_count": null,
      "outputs": [
        {
          "output_type": "stream",
          "name": "stdout",
          "text": [
            "[*] Train mode\n",
            "[*] Building the model...\n",
            "[*] Compiling the model and starting train...\n",
            "2022-12-15 10:21:01.273356: W tensorflow/core/common_runtime/gpu/gpu_bfc_allocator.cc:42] Overriding orig_value setting because the TF_FORCE_GPU_ALLOW_GROWTH environment variable is set. Original config value was 0.\n",
            "*** VOCABULARY\n",
            "    words_vocab      = 6670\n",
            "    postags_vocab    = 20\n",
            "    relations_vocab  = 46\n",
            "*** PARSER MODEL\n",
            "    sequence_length  = 3\n",
            "    embeddings_dim   = 128\n",
            "    dense_dim        = 256\n",
            "*** COMPILATION\n",
            "    optimizer        = adam\n",
            "    loss_fucntion    = categorical_crossentropy\n",
            "    learning_rate    = 0.001\n",
            "    metrics          = ['acc']\n",
            "Epoch 1/10\n",
            "2603/2603 [==============================] - 18s 6ms/step - loss: 0.9015 - action_loss: 0.3668 - relation_loss: 0.5347 - action_acc: 0.8609 - relation_acc: 0.8355 - val_loss: 0.7990 - val_action_loss: 0.3474 - val_relation_loss: 0.4516 - val_action_acc: 0.8750 - val_relation_acc: 0.8475\n",
            "Epoch 2/10\n",
            "2603/2603 [==============================] - 15s 6ms/step - loss: 0.4137 - action_loss: 0.1738 - relation_loss: 0.2399 - action_acc: 0.9382 - relation_acc: 0.9232 - val_loss: 0.8709 - val_action_loss: 0.4000 - val_relation_loss: 0.4708 - val_action_acc: 0.8678 - val_relation_acc: 0.8473\n",
            "Epoch 3/10\n",
            "2603/2603 [==============================] - 15s 6ms/step - loss: 0.2088 - action_loss: 0.0899 - relation_loss: 0.1189 - action_acc: 0.9680 - relation_acc: 0.9625 - val_loss: 1.0452 - val_action_loss: 0.4730 - val_relation_loss: 0.5722 - val_action_acc: 0.8660 - val_relation_acc: 0.8467\n",
            "Epoch 4/10\n",
            "2603/2603 [==============================] - 14s 6ms/step - loss: 0.1119 - action_loss: 0.0518 - relation_loss: 0.0601 - action_acc: 0.9825 - relation_acc: 0.9805 - val_loss: 1.2699 - val_action_loss: 0.5789 - val_relation_loss: 0.6910 - val_action_acc: 0.8653 - val_relation_acc: 0.8436\n",
            "Epoch 5/10\n",
            "2603/2603 [==============================] - 15s 6ms/step - loss: 0.0669 - action_loss: 0.0328 - relation_loss: 0.0340 - action_acc: 0.9891 - relation_acc: 0.9892 - val_loss: 1.5556 - val_action_loss: 0.7094 - val_relation_loss: 0.8462 - val_action_acc: 0.8532 - val_relation_acc: 0.8389\n",
            "Epoch 6/10\n",
            "2603/2603 [==============================] - 14s 6ms/step - loss: 0.0462 - action_loss: 0.0225 - relation_loss: 0.0237 - action_acc: 0.9927 - relation_acc: 0.9926 - val_loss: 1.6829 - val_action_loss: 0.7865 - val_relation_loss: 0.8964 - val_action_acc: 0.8623 - val_relation_acc: 0.8410\n",
            "Epoch 7/10\n",
            "2603/2603 [==============================] - 15s 6ms/step - loss: 0.0352 - action_loss: 0.0177 - relation_loss: 0.0175 - action_acc: 0.9939 - relation_acc: 0.9945 - val_loss: 1.8579 - val_action_loss: 0.8935 - val_relation_loss: 0.9644 - val_action_acc: 0.8633 - val_relation_acc: 0.8420\n",
            "Epoch 8/10\n",
            "2603/2603 [==============================] - 15s 6ms/step - loss: 0.0302 - action_loss: 0.0160 - relation_loss: 0.0142 - action_acc: 0.9946 - relation_acc: 0.9958 - val_loss: 2.0184 - val_action_loss: 0.9620 - val_relation_loss: 1.0565 - val_action_acc: 0.8610 - val_relation_acc: 0.8461\n",
            "Epoch 9/10\n",
            "2603/2603 [==============================] - 15s 6ms/step - loss: 0.0230 - action_loss: 0.0123 - relation_loss: 0.0107 - action_acc: 0.9960 - relation_acc: 0.9967 - val_loss: 2.1529 - val_action_loss: 0.9876 - val_relation_loss: 1.1653 - val_action_acc: 0.8625 - val_relation_acc: 0.8420\n",
            "Epoch 10/10\n",
            "2603/2603 [==============================] - 14s 6ms/step - loss: 0.0226 - action_loss: 0.0114 - relation_loss: 0.0112 - action_acc: 0.9965 - relation_acc: 0.9967 - val_loss: 2.3478 - val_action_loss: 1.0833 - val_relation_loss: 1.2645 - val_action_acc: 0.8614 - val_relation_acc: 0.8364\n"
          ]
        }
      ]
    },
    {
      "cell_type": "code",
      "source": [
        "!python main.py plot --model ./models/a/model --output ./models/a"
      ],
      "metadata": {
        "colab": {
          "base_uri": "https://localhost:8080/"
        },
        "outputId": "a0ef1a51-f3c4-441e-e3e2-ba5aa854140c",
        "id": "RaTEvA4C9DJt"
      },
      "execution_count": null,
      "outputs": [
        {
          "output_type": "stream",
          "name": "stdout",
          "text": [
            "[*] Plot mode\n",
            "2022-12-15 10:24:31.924089: W tensorflow/core/common_runtime/gpu/gpu_bfc_allocator.cc:42] Overriding orig_value setting because the TF_FORCE_GPU_ALLOW_GROWTH environment variable is set. Original config value was 0.\n",
            "[*] Model loaded\n",
            "    Sequence length: 3\n",
            "    Embedding dimension: 128\n",
            "    Hidden layer dimension: 256\n",
            "[*] Model loaded from ./models/a/model\n"
          ]
        }
      ]
    },
    {
      "cell_type": "code",
      "source": [
        "!python main.py eval --input ./data/UD_English-ParTUT/ --output ./models/a --model ./models/a/model"
      ],
      "metadata": {
        "colab": {
          "base_uri": "https://localhost:8080/"
        },
        "outputId": "ebbf33f2-5748-4b83-8ae2-8fb679c59cba",
        "id": "KCxP82SH9DJu"
      },
      "execution_count": null,
      "outputs": [
        {
          "output_type": "stream",
          "name": "stdout",
          "text": [
            "[*] Evaluation mode\n",
            "    Postprocess:  True\n",
            "    Multi-root:  True\n",
            "2022-12-15 10:24:37.577662: W tensorflow/core/common_runtime/gpu/gpu_bfc_allocator.cc:42] Overriding orig_value setting because the TF_FORCE_GPU_ALLOW_GROWTH environment variable is set. Original config value was 0.\n",
            "[*] Model loaded\n",
            "    Sequence length: 3\n",
            "    Embedding dimension: 128\n",
            "    Hidden layer dimension: 256\n",
            "[*] Model loaded from ./models/a/model\n",
            "[*] Predicting the test set...\n",
            "Time:  0:04:02.603701\n",
            "Total tokens:  3561\n",
            "Total sentences:  153\n",
            "Tokens per second:  14.678259174619928\n",
            "Sentences per second:  0.6306581448236027\n",
            "[*] Postprocessing the test set...\n",
            "[*] Writing the test set...\n"
          ]
        }
      ]
    },
    {
      "cell_type": "code",
      "source": [
        "!python ./eval/conll18_ud_eval.py ./models/a/test_clean.conllu ./models/a/test_pred.conllu --verbose"
      ],
      "metadata": {
        "colab": {
          "base_uri": "https://localhost:8080/"
        },
        "outputId": "b449d189-db64-4556-964d-ecf259adbbf5",
        "id": "zp5mbdL_9DJu"
      },
      "execution_count": null,
      "outputs": [
        {
          "output_type": "stream",
          "name": "stdout",
          "text": [
            "Metric     | Precision |    Recall |  F1 Score | AligndAcc\n",
            "-----------+-----------+-----------+-----------+-----------\n",
            "Tokens     |    100.00 |    100.00 |    100.00 |\n",
            "Sentences  |    100.00 |    100.00 |    100.00 |\n",
            "Words      |    100.00 |    100.00 |    100.00 |\n",
            "UPOS       |    100.00 |    100.00 |    100.00 |    100.00\n",
            "XPOS       |      0.15 |      0.15 |      0.15 |      0.15\n",
            "UFeats     |     36.06 |     36.06 |     36.06 |     36.06\n",
            "AllTags    |      0.15 |      0.15 |      0.15 |      0.15\n",
            "Lemmas     |      0.00 |      0.00 |      0.00 |      0.00\n",
            "UAS        |     66.75 |     66.75 |     66.75 |     66.75\n",
            "LAS        |     59.15 |     59.15 |     59.15 |     59.15\n",
            "CLAS       |     46.16 |     44.86 |     45.50 |     44.86\n",
            "MLAS       |      7.45 |      7.24 |      7.35 |      7.24\n",
            "BLEX       |      0.00 |      0.00 |      0.00 |      0.00\n"
          ]
        }
      ]
    },
    {
      "cell_type": "markdown",
      "source": [
        "# Model: seql=3, hdim=192, edim=128\n"
      ],
      "metadata": {
        "id": "hh4f_dvuLiw8"
      }
    },
    {
      "cell_type": "code",
      "source": [
        "!mkdir ./models/d"
      ],
      "metadata": {
        "id": "f0PH3V8vLiw9",
        "colab": {
          "base_uri": "https://localhost:8080/"
        },
        "outputId": "5d82602f-181b-4b14-f2d4-a69bf856ac68"
      },
      "execution_count": null,
      "outputs": [
        {
          "output_type": "stream",
          "name": "stdout",
          "text": [
            "mkdir: cannot create directory ‘./models/d’: File exists\n"
          ]
        }
      ]
    },
    {
      "cell_type": "code",
      "source": [
        "!python main.py train --input ./data/UD_English-ParTUT/ --output ./models/d --seq_l 3 --hidden_size 192 --embedding_size 128"
      ],
      "metadata": {
        "colab": {
          "base_uri": "https://localhost:8080/"
        },
        "outputId": "b83687cb-49cd-45a4-bcf0-93cc005c6e01",
        "id": "CnwawmOYLiw9"
      },
      "execution_count": null,
      "outputs": [
        {
          "output_type": "stream",
          "name": "stdout",
          "text": [
            "[*] Train mode\n",
            "[*] Building the model...\n",
            "[*] Compiling the model and starting train...\n",
            "2022-12-15 10:58:17.614097: W tensorflow/core/common_runtime/gpu/gpu_bfc_allocator.cc:42] Overriding orig_value setting because the TF_FORCE_GPU_ALLOW_GROWTH environment variable is set. Original config value was 0.\n",
            "*** VOCABULARY\n",
            "    words_vocab      = 6670\n",
            "    postags_vocab    = 20\n",
            "    relations_vocab  = 46\n",
            "*** PARSER MODEL\n",
            "    sequence_length  = 3\n",
            "    embeddings_dim   = 128\n",
            "    dense_dim        = 192\n",
            "*** COMPILATION\n",
            "    optimizer        = adam\n",
            "    loss_fucntion    = categorical_crossentropy\n",
            "    learning_rate    = 0.001\n",
            "    metrics          = ['acc']\n",
            "Epoch 1/10\n",
            "2603/2603 [==============================] - 16s 6ms/step - loss: 0.9072 - action_loss: 0.3678 - relation_loss: 0.5394 - action_acc: 0.8602 - relation_acc: 0.8360 - val_loss: 0.8237 - val_action_loss: 0.3610 - val_relation_loss: 0.4627 - val_action_acc: 0.8735 - val_relation_acc: 0.8479\n",
            "Epoch 2/10\n",
            "2603/2603 [==============================] - 15s 6ms/step - loss: 0.4191 - action_loss: 0.1765 - relation_loss: 0.2426 - action_acc: 0.9364 - relation_acc: 0.9214 - val_loss: 0.8746 - val_action_loss: 0.3929 - val_relation_loss: 0.4816 - val_action_acc: 0.8684 - val_relation_acc: 0.8508\n",
            "Epoch 3/10\n",
            "2603/2603 [==============================] - 15s 6ms/step - loss: 0.2180 - action_loss: 0.0938 - relation_loss: 0.1242 - action_acc: 0.9676 - relation_acc: 0.9607 - val_loss: 1.0107 - val_action_loss: 0.4716 - val_relation_loss: 0.5391 - val_action_acc: 0.8658 - val_relation_acc: 0.8532\n",
            "Epoch 4/10\n",
            "2603/2603 [==============================] - 14s 6ms/step - loss: 0.1182 - action_loss: 0.0534 - relation_loss: 0.0648 - action_acc: 0.9817 - relation_acc: 0.9796 - val_loss: 1.2559 - val_action_loss: 0.5849 - val_relation_loss: 0.6710 - val_action_acc: 0.8651 - val_relation_acc: 0.8403\n",
            "Epoch 5/10\n",
            "2603/2603 [==============================] - 14s 6ms/step - loss: 0.0700 - action_loss: 0.0337 - relation_loss: 0.0363 - action_acc: 0.9886 - relation_acc: 0.9886 - val_loss: 1.4733 - val_action_loss: 0.6875 - val_relation_loss: 0.7858 - val_action_acc: 0.8602 - val_relation_acc: 0.8420\n",
            "Epoch 6/10\n",
            "2603/2603 [==============================] - 14s 6ms/step - loss: 0.0462 - action_loss: 0.0234 - relation_loss: 0.0228 - action_acc: 0.9921 - relation_acc: 0.9928 - val_loss: 1.7377 - val_action_loss: 0.8253 - val_relation_loss: 0.9124 - val_action_acc: 0.8551 - val_relation_acc: 0.8397\n",
            "Epoch 7/10\n",
            "2603/2603 [==============================] - 15s 6ms/step - loss: 0.0368 - action_loss: 0.0190 - relation_loss: 0.0179 - action_acc: 0.9936 - relation_acc: 0.9946 - val_loss: 1.8896 - val_action_loss: 0.8919 - val_relation_loss: 0.9978 - val_action_acc: 0.8588 - val_relation_acc: 0.8354\n",
            "Epoch 8/10\n",
            "2603/2603 [==============================] - 15s 6ms/step - loss: 0.0303 - action_loss: 0.0156 - relation_loss: 0.0147 - action_acc: 0.9950 - relation_acc: 0.9954 - val_loss: 1.9506 - val_action_loss: 0.9151 - val_relation_loss: 1.0354 - val_action_acc: 0.8610 - val_relation_acc: 0.8405\n",
            "Epoch 9/10\n",
            "2603/2603 [==============================] - 15s 6ms/step - loss: 0.0246 - action_loss: 0.0133 - relation_loss: 0.0113 - action_acc: 0.9954 - relation_acc: 0.9966 - val_loss: 2.0424 - val_action_loss: 0.9424 - val_relation_loss: 1.1000 - val_action_acc: 0.8588 - val_relation_acc: 0.8455\n",
            "Epoch 10/10\n",
            "2603/2603 [==============================] - 15s 6ms/step - loss: 0.0204 - action_loss: 0.0108 - relation_loss: 0.0096 - action_acc: 0.9967 - relation_acc: 0.9969 - val_loss: 2.2777 - val_action_loss: 1.0815 - val_relation_loss: 1.1962 - val_action_acc: 0.8574 - val_relation_acc: 0.8379\n"
          ]
        }
      ]
    },
    {
      "cell_type": "code",
      "source": [
        "!python main.py plot --model ./models/d/model --output ./models/d"
      ],
      "metadata": {
        "colab": {
          "base_uri": "https://localhost:8080/"
        },
        "outputId": "6b03e697-1228-427e-f10a-71905f1dd426",
        "id": "SmZzpM5BLiw-"
      },
      "execution_count": null,
      "outputs": [
        {
          "output_type": "stream",
          "name": "stdout",
          "text": [
            "[*] Plot mode\n",
            "2022-12-15 11:01:47.326140: W tensorflow/core/common_runtime/gpu/gpu_bfc_allocator.cc:42] Overriding orig_value setting because the TF_FORCE_GPU_ALLOW_GROWTH environment variable is set. Original config value was 0.\n",
            "[*] Model loaded\n",
            "    Sequence length: 3\n",
            "    Embedding dimension: 128\n",
            "    Hidden layer dimension: 192\n",
            "[*] Model loaded from ./models/d/model\n"
          ]
        }
      ]
    },
    {
      "cell_type": "code",
      "source": [
        "!python main.py eval --input ./data/UD_English-ParTUT/ --output ./models/d --model ./models/d/model"
      ],
      "metadata": {
        "colab": {
          "base_uri": "https://localhost:8080/"
        },
        "outputId": "e598dd5f-e867-44ee-a4c2-bc60e35b16a3",
        "id": "65ZR7PNrLiw_"
      },
      "execution_count": null,
      "outputs": [
        {
          "output_type": "stream",
          "name": "stdout",
          "text": [
            "[*] Evaluation mode\n",
            "    Postprocess:  True\n",
            "    Multi-root:  True\n",
            "2022-12-15 11:01:52.833525: W tensorflow/core/common_runtime/gpu/gpu_bfc_allocator.cc:42] Overriding orig_value setting because the TF_FORCE_GPU_ALLOW_GROWTH environment variable is set. Original config value was 0.\n",
            "[*] Model loaded\n",
            "    Sequence length: 3\n",
            "    Embedding dimension: 128\n",
            "    Hidden layer dimension: 192\n",
            "[*] Model loaded from ./models/d/model\n",
            "[*] Predicting the test set...\n",
            "Time:  0:03:53.165544\n",
            "Total tokens:  3561\n",
            "Total sentences:  153\n",
            "Tokens per second:  15.272410918484594\n",
            "Sentences per second:  0.6561861472979901\n",
            "[*] Postprocessing the test set...\n",
            "[*] Writing the test set...\n"
          ]
        }
      ]
    },
    {
      "cell_type": "code",
      "source": [
        "!python ./eval/conll18_ud_eval.py ./models/d/test_clean.conllu ./models/d/test_pred.conllu --verbose"
      ],
      "metadata": {
        "colab": {
          "base_uri": "https://localhost:8080/"
        },
        "outputId": "6f3b4d78-6045-4c04-bfc1-1cab14e4162d",
        "id": "IqiQ-g0MLiw_"
      },
      "execution_count": null,
      "outputs": [
        {
          "output_type": "stream",
          "name": "stdout",
          "text": [
            "Metric     | Precision |    Recall |  F1 Score | AligndAcc\n",
            "-----------+-----------+-----------+-----------+-----------\n",
            "Tokens     |    100.00 |    100.00 |    100.00 |\n",
            "Sentences  |    100.00 |    100.00 |    100.00 |\n",
            "Words      |    100.00 |    100.00 |    100.00 |\n",
            "UPOS       |    100.00 |    100.00 |    100.00 |    100.00\n",
            "XPOS       |      0.15 |      0.15 |      0.15 |      0.15\n",
            "UFeats     |     36.06 |     36.06 |     36.06 |     36.06\n",
            "AllTags    |      0.15 |      0.15 |      0.15 |      0.15\n",
            "Lemmas     |      0.00 |      0.00 |      0.00 |      0.00\n",
            "UAS        |     63.67 |     63.67 |     63.67 |     63.67\n",
            "LAS        |     55.90 |     55.90 |     55.90 |     55.90\n",
            "CLAS       |     45.72 |     42.62 |     44.12 |     42.62\n",
            "MLAS       |      7.05 |      6.57 |      6.80 |      6.57\n",
            "BLEX       |      0.00 |      0.00 |      0.00 |      0.00\n"
          ]
        }
      ]
    },
    {
      "cell_type": "markdown",
      "source": [
        "# Model: seql=3, hdim=128, edim=128\n"
      ],
      "metadata": {
        "id": "hLt09AgDAWdl"
      }
    },
    {
      "cell_type": "code",
      "source": [
        "!mkdir ./models/b"
      ],
      "metadata": {
        "id": "WirYdADsAYLJ"
      },
      "execution_count": null,
      "outputs": []
    },
    {
      "cell_type": "code",
      "source": [
        "!python main.py train --input ./data/UD_English-ParTUT/ --output ./models/b --seq_l 3 --hidden_size 128 --embedding_size 128"
      ],
      "metadata": {
        "colab": {
          "base_uri": "https://localhost:8080/"
        },
        "id": "byZgvUucAa8x",
        "outputId": "d6b9787e-280b-4632-ad97-7d250b0a1741"
      },
      "execution_count": null,
      "outputs": [
        {
          "output_type": "stream",
          "name": "stdout",
          "text": [
            "[*] Train mode\n",
            "[*] Building the model...\n",
            "[*] Compiling the model and starting train...\n",
            "2022-12-15 10:28:50.814844: W tensorflow/core/common_runtime/gpu/gpu_bfc_allocator.cc:42] Overriding orig_value setting because the TF_FORCE_GPU_ALLOW_GROWTH environment variable is set. Original config value was 0.\n",
            "*** VOCABULARY\n",
            "    words_vocab      = 6670\n",
            "    postags_vocab    = 20\n",
            "    relations_vocab  = 46\n",
            "*** PARSER MODEL\n",
            "    sequence_length  = 3\n",
            "    embeddings_dim   = 128\n",
            "    dense_dim        = 128\n",
            "*** COMPILATION\n",
            "    optimizer        = adam\n",
            "    loss_fucntion    = categorical_crossentropy\n",
            "    learning_rate    = 0.001\n",
            "    metrics          = ['acc']\n",
            "Epoch 1/10\n",
            "2603/2603 [==============================] - 16s 6ms/step - loss: 0.9422 - action_loss: 0.3768 - relation_loss: 0.5653 - action_acc: 0.8575 - relation_acc: 0.8293 - val_loss: 0.8350 - val_action_loss: 0.3625 - val_relation_loss: 0.4725 - val_action_acc: 0.8703 - val_relation_acc: 0.8483\n",
            "Epoch 2/10\n",
            "2603/2603 [==============================] - 14s 6ms/step - loss: 0.4411 - action_loss: 0.1854 - relation_loss: 0.2557 - action_acc: 0.9338 - relation_acc: 0.9176 - val_loss: 0.9021 - val_action_loss: 0.4138 - val_relation_loss: 0.4884 - val_action_acc: 0.8616 - val_relation_acc: 0.8514\n",
            "Epoch 3/10\n",
            "2603/2603 [==============================] - 15s 6ms/step - loss: 0.2375 - action_loss: 0.1016 - relation_loss: 0.1360 - action_acc: 0.9652 - relation_acc: 0.9570 - val_loss: 1.0449 - val_action_loss: 0.5000 - val_relation_loss: 0.5449 - val_action_acc: 0.8621 - val_relation_acc: 0.8461\n",
            "Epoch 4/10\n",
            "2603/2603 [==============================] - 14s 6ms/step - loss: 0.1326 - action_loss: 0.0600 - relation_loss: 0.0726 - action_acc: 0.9798 - relation_acc: 0.9773 - val_loss: 1.2351 - val_action_loss: 0.5962 - val_relation_loss: 0.6390 - val_action_acc: 0.8645 - val_relation_acc: 0.8467\n",
            "Epoch 5/10\n",
            "2603/2603 [==============================] - 14s 6ms/step - loss: 0.0803 - action_loss: 0.0383 - relation_loss: 0.0420 - action_acc: 0.9868 - relation_acc: 0.9865 - val_loss: 1.4073 - val_action_loss: 0.6811 - val_relation_loss: 0.7261 - val_action_acc: 0.8629 - val_relation_acc: 0.8451\n",
            "Epoch 6/10\n",
            "2603/2603 [==============================] - 14s 6ms/step - loss: 0.0527 - action_loss: 0.0262 - relation_loss: 0.0265 - action_acc: 0.9916 - relation_acc: 0.9914 - val_loss: 1.6118 - val_action_loss: 0.7597 - val_relation_loss: 0.8521 - val_action_acc: 0.8610 - val_relation_acc: 0.8373\n",
            "Epoch 7/10\n",
            "2603/2603 [==============================] - 14s 6ms/step - loss: 0.0399 - action_loss: 0.0204 - relation_loss: 0.0195 - action_acc: 0.9934 - relation_acc: 0.9937 - val_loss: 1.7900 - val_action_loss: 0.8649 - val_relation_loss: 0.9252 - val_action_acc: 0.8539 - val_relation_acc: 0.8395\n",
            "Epoch 8/10\n",
            "2603/2603 [==============================] - 14s 6ms/step - loss: 0.0300 - action_loss: 0.0155 - relation_loss: 0.0144 - action_acc: 0.9948 - relation_acc: 0.9957 - val_loss: 1.8775 - val_action_loss: 0.9003 - val_relation_loss: 0.9772 - val_action_acc: 0.8569 - val_relation_acc: 0.8450\n",
            "Epoch 9/10\n",
            "2603/2603 [==============================] - 14s 6ms/step - loss: 0.0260 - action_loss: 0.0139 - relation_loss: 0.0121 - action_acc: 0.9955 - relation_acc: 0.9963 - val_loss: 2.0509 - val_action_loss: 0.9516 - val_relation_loss: 1.0993 - val_action_acc: 0.8576 - val_relation_acc: 0.8401\n",
            "Epoch 10/10\n",
            "2603/2603 [==============================] - 15s 6ms/step - loss: 0.0208 - action_loss: 0.0113 - relation_loss: 0.0095 - action_acc: 0.9965 - relation_acc: 0.9972 - val_loss: 2.2288 - val_action_loss: 1.0411 - val_relation_loss: 1.1877 - val_action_acc: 0.8594 - val_relation_acc: 0.8430\n"
          ]
        }
      ]
    },
    {
      "cell_type": "code",
      "source": [
        "!python main.py plot --model ./models/b/model --output ./models/b"
      ],
      "metadata": {
        "colab": {
          "base_uri": "https://localhost:8080/"
        },
        "id": "7U-Z3zxJBBob",
        "outputId": "fd5b550d-bdb4-4ddb-a2e0-ad26e348c8cd"
      },
      "execution_count": null,
      "outputs": [
        {
          "output_type": "stream",
          "name": "stdout",
          "text": [
            "[*] Plot mode\n",
            "2022-12-15 10:32:20.610913: W tensorflow/core/common_runtime/gpu/gpu_bfc_allocator.cc:42] Overriding orig_value setting because the TF_FORCE_GPU_ALLOW_GROWTH environment variable is set. Original config value was 0.\n",
            "[*] Model loaded\n",
            "    Sequence length: 3\n",
            "    Embedding dimension: 128\n",
            "    Hidden layer dimension: 128\n",
            "[*] Model loaded from ./models/b/model\n"
          ]
        }
      ]
    },
    {
      "cell_type": "code",
      "source": [
        "!python main.py eval --input ./data/UD_English-ParTUT/ --output ./models/b --model ./models/b/model"
      ],
      "metadata": {
        "colab": {
          "base_uri": "https://localhost:8080/"
        },
        "id": "7WMskhNbA28R",
        "outputId": "cd69d42e-0d62-4bed-e9b6-704278fb6d77"
      },
      "execution_count": null,
      "outputs": [
        {
          "output_type": "stream",
          "name": "stdout",
          "text": [
            "[*] Evaluation mode\n",
            "    Postprocess:  True\n",
            "    Multi-root:  True\n",
            "2022-12-15 10:32:26.037857: W tensorflow/core/common_runtime/gpu/gpu_bfc_allocator.cc:42] Overriding orig_value setting because the TF_FORCE_GPU_ALLOW_GROWTH environment variable is set. Original config value was 0.\n",
            "[*] Model loaded\n",
            "    Sequence length: 3\n",
            "    Embedding dimension: 128\n",
            "    Hidden layer dimension: 128\n",
            "[*] Model loaded from ./models/b/model\n",
            "[*] Predicting the test set...\n",
            "Time:  0:03:47.726657\n",
            "Total tokens:  3561\n",
            "Total sentences:  153\n",
            "Tokens per second:  15.637168028159303\n",
            "Sentences per second:  0.6718581039899953\n",
            "[*] Postprocessing the test set...\n",
            "[*] Writing the test set...\n"
          ]
        }
      ]
    },
    {
      "cell_type": "code",
      "source": [
        "!python ./eval/conll18_ud_eval.py ./models/b/test_clean.conllu ./models/b/test_pred.conllu --verbose"
      ],
      "metadata": {
        "colab": {
          "base_uri": "https://localhost:8080/"
        },
        "id": "gZ_5u9iNA7Wn",
        "outputId": "2cc4a561-1986-4795-9a0c-44c4f26c0df5"
      },
      "execution_count": null,
      "outputs": [
        {
          "output_type": "stream",
          "name": "stdout",
          "text": [
            "Metric     | Precision |    Recall |  F1 Score | AligndAcc\n",
            "-----------+-----------+-----------+-----------+-----------\n",
            "Tokens     |    100.00 |    100.00 |    100.00 |\n",
            "Sentences  |    100.00 |    100.00 |    100.00 |\n",
            "Words      |    100.00 |    100.00 |    100.00 |\n",
            "UPOS       |    100.00 |    100.00 |    100.00 |    100.00\n",
            "XPOS       |      0.15 |      0.15 |      0.15 |      0.15\n",
            "UFeats     |     36.06 |     36.06 |     36.06 |     36.06\n",
            "AllTags    |      0.15 |      0.15 |      0.15 |      0.15\n",
            "Lemmas     |      0.00 |      0.00 |      0.00 |      0.00\n",
            "UAS        |     59.74 |     59.74 |     59.74 |     59.74\n",
            "LAS        |     52.14 |     52.14 |     52.14 |     52.14\n",
            "CLAS       |     39.56 |     37.79 |     38.66 |     37.79\n",
            "MLAS       |      6.64 |      6.34 |      6.49 |      6.34\n",
            "BLEX       |      0.00 |      0.00 |      0.00 |      0.00\n"
          ]
        }
      ]
    },
    {
      "cell_type": "markdown",
      "source": [
        "# Model: seql=3, hdim=64, edim=128\n"
      ],
      "metadata": {
        "id": "Uvl-KPTHCTu9"
      }
    },
    {
      "cell_type": "code",
      "source": [
        "!mkdir ./models/c"
      ],
      "metadata": {
        "id": "0YyZbUY3CnV4"
      },
      "execution_count": null,
      "outputs": []
    },
    {
      "cell_type": "code",
      "source": [
        "!python main.py train --input ./data/UD_English-ParTUT/ --output ./models/c --seq_l 3 --hidden_size 64 --embedding_size 128"
      ],
      "metadata": {
        "colab": {
          "base_uri": "https://localhost:8080/"
        },
        "id": "q_VgPP_3CpWF",
        "outputId": "a8225526-1010-4a68-c22e-29f397763665"
      },
      "execution_count": null,
      "outputs": [
        {
          "output_type": "stream",
          "name": "stdout",
          "text": [
            "[*] Train mode\n",
            "[*] Building the model...\n",
            "[*] Compiling the model and starting train...\n",
            "2022-12-15 10:36:24.221940: W tensorflow/core/common_runtime/gpu/gpu_bfc_allocator.cc:42] Overriding orig_value setting because the TF_FORCE_GPU_ALLOW_GROWTH environment variable is set. Original config value was 0.\n",
            "*** VOCABULARY\n",
            "    words_vocab      = 6670\n",
            "    postags_vocab    = 20\n",
            "    relations_vocab  = 46\n",
            "*** PARSER MODEL\n",
            "    sequence_length  = 3\n",
            "    embeddings_dim   = 128\n",
            "    dense_dim        = 64\n",
            "*** COMPILATION\n",
            "    optimizer        = adam\n",
            "    loss_fucntion    = categorical_crossentropy\n",
            "    learning_rate    = 0.001\n",
            "    metrics          = ['acc']\n",
            "Epoch 1/10\n",
            "2603/2603 [==============================] - 16s 6ms/step - loss: 1.0094 - action_loss: 0.3932 - relation_loss: 0.6162 - action_acc: 0.8517 - relation_acc: 0.8192 - val_loss: 0.8507 - val_action_loss: 0.3621 - val_relation_loss: 0.4886 - val_action_acc: 0.8699 - val_relation_acc: 0.8446\n",
            "Epoch 2/10\n",
            "2603/2603 [==============================] - 15s 6ms/step - loss: 0.4896 - action_loss: 0.2037 - relation_loss: 0.2859 - action_acc: 0.9276 - relation_acc: 0.9103 - val_loss: 0.8823 - val_action_loss: 0.3987 - val_relation_loss: 0.4836 - val_action_acc: 0.8713 - val_relation_acc: 0.8489\n",
            "Epoch 3/10\n",
            "2603/2603 [==============================] - 14s 6ms/step - loss: 0.2843 - action_loss: 0.1193 - relation_loss: 0.1650 - action_acc: 0.9596 - relation_acc: 0.9497 - val_loss: 0.9962 - val_action_loss: 0.4692 - val_relation_loss: 0.5271 - val_action_acc: 0.8658 - val_relation_acc: 0.8475\n",
            "Epoch 4/10\n",
            "2603/2603 [==============================] - 14s 6ms/step - loss: 0.1676 - action_loss: 0.0730 - relation_loss: 0.0946 - action_acc: 0.9756 - relation_acc: 0.9711 - val_loss: 1.1904 - val_action_loss: 0.5618 - val_relation_loss: 0.6287 - val_action_acc: 0.8606 - val_relation_acc: 0.8446\n",
            "Epoch 5/10\n",
            "2603/2603 [==============================] - 15s 6ms/step - loss: 0.1036 - action_loss: 0.0480 - relation_loss: 0.0557 - action_acc: 0.9840 - relation_acc: 0.9832 - val_loss: 1.3735 - val_action_loss: 0.6431 - val_relation_loss: 0.7304 - val_action_acc: 0.8551 - val_relation_acc: 0.8369\n",
            "Epoch 6/10\n",
            "2603/2603 [==============================] - 14s 6ms/step - loss: 0.0681 - action_loss: 0.0326 - relation_loss: 0.0355 - action_acc: 0.9893 - relation_acc: 0.9892 - val_loss: 1.5236 - val_action_loss: 0.7166 - val_relation_loss: 0.8070 - val_action_acc: 0.8594 - val_relation_acc: 0.8309\n",
            "Epoch 7/10\n",
            "2603/2603 [==============================] - 15s 6ms/step - loss: 0.0466 - action_loss: 0.0235 - relation_loss: 0.0231 - action_acc: 0.9923 - relation_acc: 0.9932 - val_loss: 1.7122 - val_action_loss: 0.8184 - val_relation_loss: 0.8939 - val_action_acc: 0.8580 - val_relation_acc: 0.8450\n",
            "Epoch 8/10\n",
            "2603/2603 [==============================] - 15s 6ms/step - loss: 0.0358 - action_loss: 0.0188 - relation_loss: 0.0170 - action_acc: 0.9936 - relation_acc: 0.9948 - val_loss: 1.8155 - val_action_loss: 0.8468 - val_relation_loss: 0.9686 - val_action_acc: 0.8569 - val_relation_acc: 0.8356\n",
            "Epoch 9/10\n",
            "2603/2603 [==============================] - 15s 6ms/step - loss: 0.0270 - action_loss: 0.0144 - relation_loss: 0.0126 - action_acc: 0.9952 - relation_acc: 0.9965 - val_loss: 2.0461 - val_action_loss: 0.9834 - val_relation_loss: 1.0627 - val_action_acc: 0.8563 - val_relation_acc: 0.8325\n",
            "Epoch 10/10\n",
            "2603/2603 [==============================] - 15s 6ms/step - loss: 0.0251 - action_loss: 0.0135 - relation_loss: 0.0115 - action_acc: 0.9956 - relation_acc: 0.9965 - val_loss: 2.1542 - val_action_loss: 1.0047 - val_relation_loss: 1.1495 - val_action_acc: 0.8541 - val_relation_acc: 0.8342\n"
          ]
        }
      ]
    },
    {
      "cell_type": "code",
      "source": [
        "!python main.py plot --model ./models/c/model --output ./models/c"
      ],
      "metadata": {
        "colab": {
          "base_uri": "https://localhost:8080/"
        },
        "id": "75qHILE_Ct74",
        "outputId": "aedf389b-e838-48a5-fcbe-3efff80fe522"
      },
      "execution_count": null,
      "outputs": [
        {
          "output_type": "stream",
          "name": "stdout",
          "text": [
            "[*] Plot mode\n",
            "2022-12-15 10:39:53.835903: W tensorflow/core/common_runtime/gpu/gpu_bfc_allocator.cc:42] Overriding orig_value setting because the TF_FORCE_GPU_ALLOW_GROWTH environment variable is set. Original config value was 0.\n",
            "[*] Model loaded\n",
            "    Sequence length: 3\n",
            "    Embedding dimension: 128\n",
            "    Hidden layer dimension: 64\n",
            "[*] Model loaded from ./models/c/model\n"
          ]
        }
      ]
    },
    {
      "cell_type": "code",
      "source": [
        "!python main.py eval --input ./data/UD_English-ParTUT/ --output ./models/c --model ./models/c/model"
      ],
      "metadata": {
        "colab": {
          "base_uri": "https://localhost:8080/"
        },
        "id": "t_YPGt7aCwqG",
        "outputId": "f64a619c-5538-4f0d-d28a-2bb8db8e1fca"
      },
      "execution_count": null,
      "outputs": [
        {
          "output_type": "stream",
          "name": "stdout",
          "text": [
            "[*] Evaluation mode\n",
            "    Postprocess:  True\n",
            "    Multi-root:  True\n",
            "2022-12-15 10:39:59.344389: W tensorflow/core/common_runtime/gpu/gpu_bfc_allocator.cc:42] Overriding orig_value setting because the TF_FORCE_GPU_ALLOW_GROWTH environment variable is set. Original config value was 0.\n",
            "[*] Model loaded\n",
            "    Sequence length: 3\n",
            "    Embedding dimension: 128\n",
            "    Hidden layer dimension: 64\n",
            "[*] Model loaded from ./models/c/model\n",
            "[*] Predicting the test set...\n",
            "Time:  0:04:02.248611\n",
            "Total tokens:  3561\n",
            "Total sentences:  153\n",
            "Tokens per second:  14.699774687253004\n",
            "Sentences per second:  0.6315825687025302\n",
            "[*] Postprocessing the test set...\n",
            "[*] Writing the test set...\n"
          ]
        }
      ]
    },
    {
      "cell_type": "code",
      "source": [
        "!python ./eval/conll18_ud_eval.py ./models/c/test_clean.conllu ./models/c/test_pred.conllu --verbose"
      ],
      "metadata": {
        "colab": {
          "base_uri": "https://localhost:8080/"
        },
        "id": "sCYayC9hC18Z",
        "outputId": "1bfb1abf-be4f-4b8f-a789-c03ea100b5e7"
      },
      "execution_count": null,
      "outputs": [
        {
          "output_type": "stream",
          "name": "stdout",
          "text": [
            "Metric     | Precision |    Recall |  F1 Score | AligndAcc\n",
            "-----------+-----------+-----------+-----------+-----------\n",
            "Tokens     |    100.00 |    100.00 |    100.00 |\n",
            "Sentences  |    100.00 |    100.00 |    100.00 |\n",
            "Words      |    100.00 |    100.00 |    100.00 |\n",
            "UPOS       |    100.00 |    100.00 |    100.00 |    100.00\n",
            "XPOS       |      0.15 |      0.15 |      0.15 |      0.15\n",
            "UFeats     |     36.06 |     36.06 |     36.06 |     36.06\n",
            "AllTags    |      0.15 |      0.15 |      0.15 |      0.15\n",
            "Lemmas     |      0.00 |      0.00 |      0.00 |      0.00\n",
            "UAS        |     65.67 |     65.67 |     65.67 |     65.67\n",
            "LAS        |     57.16 |     57.16 |     57.16 |     57.16\n",
            "CLAS       |     45.45 |     42.67 |     44.02 |     42.67\n",
            "MLAS       |      7.60 |      7.13 |      7.36 |      7.13\n",
            "BLEX       |      0.00 |      0.00 |      0.00 |      0.00\n"
          ]
        }
      ]
    },
    {
      "cell_type": "markdown",
      "source": [
        "# Model: seql=3, hdim=0, edim=128\n"
      ],
      "metadata": {
        "id": "drpMQ6y_Rpbd"
      }
    },
    {
      "cell_type": "code",
      "source": [
        "!mkdir ./models/s"
      ],
      "metadata": {
        "id": "EBG3vRDqUoPN"
      },
      "execution_count": null,
      "outputs": []
    },
    {
      "cell_type": "code",
      "source": [
        "!python main.py train --input ./data/UD_English-ParTUT/ --output ./models/s --seq_l 3 --hidden_size 0 --embedding_size 128"
      ],
      "metadata": {
        "colab": {
          "base_uri": "https://localhost:8080/"
        },
        "outputId": "32ec320d-2a57-4c43-9c30-41cb794bcf35",
        "id": "lZA5A6eeUoPO"
      },
      "execution_count": null,
      "outputs": [
        {
          "output_type": "stream",
          "name": "stdout",
          "text": [
            "[*] Train mode\n",
            "[*] Building the model...\n",
            "[*] Compiling the model and starting train...\n",
            "2022-12-15 10:51:52.672947: W tensorflow/core/common_runtime/gpu/gpu_bfc_allocator.cc:42] Overriding orig_value setting because the TF_FORCE_GPU_ALLOW_GROWTH environment variable is set. Original config value was 0.\n",
            "*** VOCABULARY\n",
            "    words_vocab      = 6670\n",
            "    postags_vocab    = 20\n",
            "    relations_vocab  = 46\n",
            "*** PARSER MODEL\n",
            "    sequence_length  = 3\n",
            "    embeddings_dim   = 128\n",
            "    dense_dim        = 0\n",
            "*** COMPILATION\n",
            "    optimizer        = adam\n",
            "    loss_fucntion    = categorical_crossentropy\n",
            "    learning_rate    = 0.001\n",
            "    metrics          = ['acc']\n",
            "Epoch 1/10\n",
            "2603/2603 [==============================] - 16s 6ms/step - loss: 1.1090 - action_loss: 0.4558 - relation_loss: 0.6532 - action_acc: 0.8292 - relation_acc: 0.8153 - val_loss: 0.9600 - val_action_loss: 0.4312 - val_relation_loss: 0.5288 - val_action_acc: 0.8409 - val_relation_acc: 0.8377\n",
            "Epoch 2/10\n",
            "2603/2603 [==============================] - 14s 5ms/step - loss: 0.6286 - action_loss: 0.2964 - relation_loss: 0.3322 - action_acc: 0.8931 - relation_acc: 0.8976 - val_loss: 0.9921 - val_action_loss: 0.4754 - val_relation_loss: 0.5167 - val_action_acc: 0.8354 - val_relation_acc: 0.8391\n",
            "Epoch 3/10\n",
            "2603/2603 [==============================] - 14s 5ms/step - loss: 0.4351 - action_loss: 0.2247 - relation_loss: 0.2103 - action_acc: 0.9218 - relation_acc: 0.9370 - val_loss: 1.1227 - val_action_loss: 0.5439 - val_relation_loss: 0.5788 - val_action_acc: 0.8256 - val_relation_acc: 0.8272\n",
            "Epoch 4/10\n",
            "2603/2603 [==============================] - 14s 6ms/step - loss: 0.3217 - action_loss: 0.1830 - relation_loss: 0.1388 - action_acc: 0.9371 - relation_acc: 0.9602 - val_loss: 1.2068 - val_action_loss: 0.5925 - val_relation_loss: 0.6143 - val_action_acc: 0.8248 - val_relation_acc: 0.8285\n",
            "Epoch 5/10\n",
            "2603/2603 [==============================] - 15s 6ms/step - loss: 0.2492 - action_loss: 0.1551 - relation_loss: 0.0941 - action_acc: 0.9484 - relation_acc: 0.9733 - val_loss: 1.3601 - val_action_loss: 0.6713 - val_relation_loss: 0.6888 - val_action_acc: 0.8147 - val_relation_acc: 0.8180\n",
            "Epoch 6/10\n",
            "2603/2603 [==============================] - 14s 5ms/step - loss: 0.2021 - action_loss: 0.1353 - relation_loss: 0.0669 - action_acc: 0.9551 - relation_acc: 0.9815 - val_loss: 1.4816 - val_action_loss: 0.7460 - val_relation_loss: 0.7356 - val_action_acc: 0.8141 - val_relation_acc: 0.8205\n",
            "Epoch 7/10\n",
            "2603/2603 [==============================] - 14s 5ms/step - loss: 0.1694 - action_loss: 0.1203 - relation_loss: 0.0491 - action_acc: 0.9599 - relation_acc: 0.9868 - val_loss: 1.6140 - val_action_loss: 0.8112 - val_relation_loss: 0.8028 - val_action_acc: 0.8092 - val_relation_acc: 0.8186\n",
            "Epoch 8/10\n",
            "2603/2603 [==============================] - 14s 5ms/step - loss: 0.1469 - action_loss: 0.1089 - relation_loss: 0.0380 - action_acc: 0.9642 - relation_acc: 0.9898 - val_loss: 1.7172 - val_action_loss: 0.8628 - val_relation_loss: 0.8544 - val_action_acc: 0.8104 - val_relation_acc: 0.8120\n",
            "Epoch 9/10\n",
            "2603/2603 [==============================] - 14s 6ms/step - loss: 0.1294 - action_loss: 0.0992 - relation_loss: 0.0302 - action_acc: 0.9674 - relation_acc: 0.9922 - val_loss: 1.8493 - val_action_loss: 0.9307 - val_relation_loss: 0.9186 - val_action_acc: 0.8051 - val_relation_acc: 0.8084\n",
            "Epoch 10/10\n",
            "2603/2603 [==============================] - 14s 6ms/step - loss: 0.1169 - action_loss: 0.0923 - relation_loss: 0.0246 - action_acc: 0.9697 - relation_acc: 0.9935 - val_loss: 2.0352 - val_action_loss: 1.0184 - val_relation_loss: 1.0168 - val_action_acc: 0.8014 - val_relation_acc: 0.8073\n"
          ]
        }
      ]
    },
    {
      "cell_type": "code",
      "source": [
        "!python main.py plot --model ./models/s/model --output ./models/s"
      ],
      "metadata": {
        "colab": {
          "base_uri": "https://localhost:8080/"
        },
        "outputId": "f618413f-1281-461d-fed3-bec5f9cbb8e7",
        "id": "qiCJAb_iUoPO"
      },
      "execution_count": null,
      "outputs": [
        {
          "output_type": "stream",
          "name": "stdout",
          "text": [
            "[*] Plot mode\n",
            "2022-12-15 10:54:25.051354: W tensorflow/core/common_runtime/gpu/gpu_bfc_allocator.cc:42] Overriding orig_value setting because the TF_FORCE_GPU_ALLOW_GROWTH environment variable is set. Original config value was 0.\n",
            "[*] Model loaded\n",
            "    Sequence length: 3\n",
            "    Embedding dimension: 128\n",
            "    Hidden layer dimension: None\n",
            "[*] Model loaded from ./models/s/model\n"
          ]
        }
      ]
    },
    {
      "cell_type": "code",
      "source": [
        "!python main.py eval --input ./data/UD_English-ParTUT/ --output ./models/s --model ./models/s/model"
      ],
      "metadata": {
        "colab": {
          "base_uri": "https://localhost:8080/"
        },
        "outputId": "046076fe-56e3-42bc-da64-c41ddadbdbab",
        "id": "rCRs94uoUoPO"
      },
      "execution_count": null,
      "outputs": [
        {
          "output_type": "stream",
          "name": "stdout",
          "text": [
            "[*] Evaluation mode\n",
            "    Postprocess:  True\n",
            "    Multi-root:  True\n",
            "2022-12-15 10:54:30.459364: W tensorflow/core/common_runtime/gpu/gpu_bfc_allocator.cc:42] Overriding orig_value setting because the TF_FORCE_GPU_ALLOW_GROWTH environment variable is set. Original config value was 0.\n",
            "[*] Model loaded\n",
            "    Sequence length: 3\n",
            "    Embedding dimension: 128\n",
            "    Hidden layer dimension: None\n",
            "[*] Model loaded from ./models/s/model\n",
            "[*] Predicting the test set...\n",
            "Time:  0:03:35.876024\n",
            "Total tokens:  3561\n",
            "Total sentences:  153\n",
            "Tokens per second:  16.49557896248821\n",
            "Sentences per second:  0.7087401239148262\n",
            "[*] Postprocessing the test set...\n",
            "[*] Writing the test set...\n"
          ]
        }
      ]
    },
    {
      "cell_type": "code",
      "source": [
        "!python ./eval/conll18_ud_eval.py ./models/s/test_clean.conllu ./models/s/test_pred.conllu --verbose"
      ],
      "metadata": {
        "colab": {
          "base_uri": "https://localhost:8080/"
        },
        "outputId": "a6764a9d-09aa-460c-df26-e7e6a46b211f",
        "id": "2-1Rl_t_UoPP"
      },
      "execution_count": null,
      "outputs": [
        {
          "output_type": "stream",
          "name": "stdout",
          "text": [
            "Metric     | Precision |    Recall |  F1 Score | AligndAcc\n",
            "-----------+-----------+-----------+-----------+-----------\n",
            "Tokens     |    100.00 |    100.00 |    100.00 |\n",
            "Sentences  |    100.00 |    100.00 |    100.00 |\n",
            "Words      |    100.00 |    100.00 |    100.00 |\n",
            "UPOS       |    100.00 |    100.00 |    100.00 |    100.00\n",
            "XPOS       |      0.15 |      0.15 |      0.15 |      0.15\n",
            "UFeats     |     36.06 |     36.06 |     36.06 |     36.06\n",
            "AllTags    |      0.15 |      0.15 |      0.15 |      0.15\n",
            "Lemmas     |      0.00 |      0.00 |      0.00 |      0.00\n",
            "UAS        |     56.60 |     56.60 |     56.60 |     56.60\n",
            "LAS        |     46.68 |     46.68 |     46.68 |     46.68\n",
            "CLAS       |     47.67 |     34.98 |     40.35 |     34.98\n",
            "MLAS       |      7.35 |      5.39 |      6.22 |      5.39\n",
            "BLEX       |      0.00 |      0.00 |      0.00 |      0.00\n"
          ]
        }
      ]
    }
  ]
}